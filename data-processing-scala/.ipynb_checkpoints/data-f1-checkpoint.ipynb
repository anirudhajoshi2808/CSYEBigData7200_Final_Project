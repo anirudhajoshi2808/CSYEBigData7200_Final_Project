{
 "cells": [
  {
   "cell_type": "code",
   "execution_count": 1,
   "id": "33f53537",
   "metadata": {},
   "outputs": [
    {
     "data": {
      "text/plain": [
       "Intitializing Scala interpreter ..."
      ]
     },
     "metadata": {},
     "output_type": "display_data"
    },
    {
     "data": {
      "text/plain": [
       "Spark Web UI available at http://10.110.168.85:4040\n",
       "SparkContext available as 'sc' (version = 3.3.2, master = local[*], app id = local-1682010868374)\n",
       "SparkSession available as 'spark'\n"
      ]
     },
     "metadata": {},
     "output_type": "display_data"
    },
    {
     "name": "stdout",
     "output_type": "stream",
     "text": [
      "23/04/20 13:14:31 WARN SparkSession: Using an existing Spark session; only runtime SQL configurations will take effect.\n"
     ]
    },
    {
     "data": {
      "text/plain": [
       "import org.apache.spark.sql.SparkSession\n",
       "spark: org.apache.spark.sql.SparkSession = org.apache.spark.sql.SparkSession@5f30e7a1\n"
      ]
     },
     "execution_count": 1,
     "metadata": {},
     "output_type": "execute_result"
    }
   ],
   "source": [
    "import org.apache.spark.sql.SparkSession\n",
    "\n",
    "val spark = SparkSession\n",
    "  .builder()\n",
    "  .appName(\"f1-project\")\n",
    "  .getOrCreate()"
   ]
  },
  {
   "cell_type": "code",
   "execution_count": 2,
   "id": "c4c38284",
   "metadata": {},
   "outputs": [
    {
     "data": {
      "text/plain": [
       "sc: org.apache.spark.SparkContext = org.apache.spark.SparkContext@46e24902\n"
      ]
     },
     "execution_count": 2,
     "metadata": {},
     "output_type": "execute_result"
    }
   ],
   "source": [
    "val sc = spark.sparkContext"
   ]
  },
  {
   "cell_type": "code",
   "execution_count": 3,
   "id": "34f70b79",
   "metadata": {},
   "outputs": [
    {
     "data": {
      "text/plain": [
       "result_df: org.apache.spark.sql.DataFrame = [resultId: string, raceId: string ... 16 more fields]\n",
       "stats_df: org.apache.spark.sql.DataFrame = [statusId: string, status: string]\n",
       "drivers_df: org.apache.spark.sql.DataFrame = [driverId: string, driverRef: string ... 7 more fields]\n",
       "races_df: org.apache.spark.sql.DataFrame = [raceId: string, year: string ... 16 more fields]\n",
       "constructor_df: org.apache.spark.sql.DataFrame = [constructorId: string, constructorRef: string ... 3 more fields]\n",
       "driver_standings_df: org.apache.spark.sql.DataFrame = [driverStandingsId: string, raceId: string ... 5 more fields]\n",
       "circuits_df: org.apache.spark.sql.DataFrame = [circuitId: string, circuitRef: string ... 7 more fields]\n",
       "seasons_df: org.apache.spark.sql.DataFrame = [year: string, url: string]\n",
       "laptimes_df: org.ap...\n"
      ]
     },
     "execution_count": 3,
     "metadata": {},
     "output_type": "execute_result"
    }
   ],
   "source": [
    "val result_df = spark.read.option(\"header\", \"true\").csv(\"../data/results.csv\")\n",
    "val stats_df = spark.read.option(\"header\", \"true\").csv(\"../data/status.csv\")\n",
    "val drivers_df = spark.read.option(\"header\", \"true\").csv(\"../data/drivers.csv\")\n",
    "val races_df = spark.read.option(\"header\", \"true\").csv(\"../data/races.csv\")\n",
    "val constructor_df = spark.read.option(\"header\", \"true\").csv(\"../data/constructors.csv\")\n",
    "val driver_standings_df = spark.read.option(\"header\", \"true\").csv(\"../data/driver_standings.csv\")\n",
    "val circuits_df = spark.read.option(\"header\", \"true\").csv(\"../data/circuits.csv\")\n",
    "val seasons_df = spark.read.option(\"header\", \"true\").csv(\"../data/seasons.csv\")\n",
    "val laptimes_df = spark.read.option(\"header\", \"true\").csv(\"../data/lap_times.csv\")\n",
    "val pitstops_df = spark.read.option(\"header\", \"true\").csv(\"../data/pit_stops.csv\")\n",
    "\n"
   ]
  },
  {
   "cell_type": "code",
   "execution_count": 4,
   "id": "b418ebc7",
   "metadata": {
    "scrolled": true
   },
   "outputs": [
    {
     "name": "stdout",
     "output_type": "stream",
     "text": [
      "+--------+------+--------+-------------+------+----+--------+------------+-------------+------+----+-----------+------------+----------+----+--------------+---------------+--------+\n",
      "|resultId|raceId|driverId|constructorId|number|grid|position|positionText|positionOrder|points|laps|time       |milliseconds|fastestLap|rank|fastestLapTime|fastestLapSpeed|statusId|\n",
      "+--------+------+--------+-------------+------+----+--------+------------+-------------+------+----+-----------+------------+----------+----+--------------+---------------+--------+\n",
      "|1       |18    |1       |1            |22    |1   |1       |1           |1            |10    |58  |1:34:50.616|5690616     |39        |2   |1:27.452      |218.300        |1       |\n",
      "|2       |18    |2       |2            |3     |5   |2       |2           |2            |8     |58  |+5.478     |5696094     |41        |3   |1:27.739      |217.586        |1       |\n",
      "|3       |18    |3       |3            |7     |7   |3       |3           |3            |6     |58  |+8.163     |5698779     |41        |5   |1:28.090      |216.719        |1       |\n",
      "|4       |18    |4       |4            |5     |11  |4       |4           |4            |5     |58  |+17.181    |5707797     |58        |7   |1:28.603      |215.464        |1       |\n",
      "|5       |18    |5       |1            |23    |3   |5       |5           |5            |4     |58  |+18.014    |5708630     |43        |1   |1:27.418      |218.385        |1       |\n",
      "+--------+------+--------+-------------+------+----+--------+------------+-------------+------+----+-----------+------------+----------+----+--------------+---------------+--------+\n",
      "only showing top 5 rows\n",
      "\n"
     ]
    }
   ],
   "source": [
    "result_df.show(5,false) "
   ]
  },
  {
   "cell_type": "code",
   "execution_count": 5,
   "id": "d9d8fb63",
   "metadata": {},
   "outputs": [
    {
     "name": "stdout",
     "output_type": "stream",
     "text": [
      "+--------+------------+\n",
      "|statusId|status      |\n",
      "+--------+------------+\n",
      "|1       |Finished    |\n",
      "|2       |Disqualified|\n",
      "|3       |Accident    |\n",
      "|4       |Collision   |\n",
      "|5       |Engine      |\n",
      "+--------+------------+\n",
      "only showing top 5 rows\n",
      "\n"
     ]
    }
   ],
   "source": [
    "stats_df.show(5,false) "
   ]
  },
  {
   "cell_type": "code",
   "execution_count": 6,
   "id": "5e69e2d6",
   "metadata": {},
   "outputs": [
    {
     "name": "stdout",
     "output_type": "stream",
     "text": [
      "+--------+----------+------+----+--------+----------+----------+-----------+----------------------------------------------+\n",
      "|driverId|driverRef |number|code|forename|surname   |dob       |nationality|url                                           |\n",
      "+--------+----------+------+----+--------+----------+----------+-----------+----------------------------------------------+\n",
      "|1       |hamilton  |44    |HAM |Lewis   |Hamilton  |1985-01-07|British    |http://en.wikipedia.org/wiki/Lewis_Hamilton   |\n",
      "|2       |heidfeld  |\\N    |HEI |Nick    |Heidfeld  |1977-05-10|German     |http://en.wikipedia.org/wiki/Nick_Heidfeld    |\n",
      "|3       |rosberg   |6     |ROS |Nico    |Rosberg   |1985-06-27|German     |http://en.wikipedia.org/wiki/Nico_Rosberg     |\n",
      "|4       |alonso    |14    |ALO |Fernando|Alonso    |1981-07-29|Spanish    |http://en.wikipedia.org/wiki/Fernando_Alonso  |\n",
      "|5       |kovalainen|\\N    |KOV |Heikki  |Kovalainen|1981-10-19|Finnish    |http://en.wikipedia.org/wiki/Heikki_Kovalainen|\n",
      "+--------+----------+------+----+--------+----------+----------+-----------+----------------------------------------------+\n",
      "only showing top 5 rows\n",
      "\n"
     ]
    }
   ],
   "source": [
    "drivers_df.show(5,false)"
   ]
  },
  {
   "cell_type": "code",
   "execution_count": 7,
   "id": "f831ea17",
   "metadata": {},
   "outputs": [
    {
     "name": "stdout",
     "output_type": "stream",
     "text": [
      "+------+----+-----+---------+---------------------+----------+--------+-------------------------------------------------------+--------+--------+--------+--------+--------+--------+----------+----------+-----------+-----------+\n",
      "|raceId|year|round|circuitId|name                 |date      |time    |url                                                    |fp1_date|fp1_time|fp2_date|fp2_time|fp3_date|fp3_time|quali_date|quali_time|sprint_date|sprint_time|\n",
      "+------+----+-----+---------+---------------------+----------+--------+-------------------------------------------------------+--------+--------+--------+--------+--------+--------+----------+----------+-----------+-----------+\n",
      "|1     |2009|1    |1        |Australian Grand Prix|2009-03-29|06:00:00|http://en.wikipedia.org/wiki/2009_Australian_Grand_Prix|\\N      |\\N      |\\N      |\\N      |\\N      |\\N      |\\N        |\\N        |\\N         |\\N         |\n",
      "|2     |2009|2    |2        |Malaysian Grand Prix |2009-04-05|09:00:00|http://en.wikipedia.org/wiki/2009_Malaysian_Grand_Prix |\\N      |\\N      |\\N      |\\N      |\\N      |\\N      |\\N        |\\N        |\\N         |\\N         |\n",
      "|3     |2009|3    |17       |Chinese Grand Prix   |2009-04-19|07:00:00|http://en.wikipedia.org/wiki/2009_Chinese_Grand_Prix   |\\N      |\\N      |\\N      |\\N      |\\N      |\\N      |\\N        |\\N        |\\N         |\\N         |\n",
      "|4     |2009|4    |3        |Bahrain Grand Prix   |2009-04-26|12:00:00|http://en.wikipedia.org/wiki/2009_Bahrain_Grand_Prix   |\\N      |\\N      |\\N      |\\N      |\\N      |\\N      |\\N        |\\N        |\\N         |\\N         |\n",
      "|5     |2009|5    |4        |Spanish Grand Prix   |2009-05-10|12:00:00|http://en.wikipedia.org/wiki/2009_Spanish_Grand_Prix   |\\N      |\\N      |\\N      |\\N      |\\N      |\\N      |\\N        |\\N        |\\N         |\\N         |\n",
      "+------+----+-----+---------+---------------------+----------+--------+-------------------------------------------------------+--------+--------+--------+--------+--------+--------+----------+----------+-----------+-----------+\n",
      "only showing top 5 rows\n",
      "\n"
     ]
    }
   ],
   "source": [
    "races_df.show(5,false)"
   ]
  },
  {
   "cell_type": "code",
   "execution_count": 8,
   "id": "4e6d237f",
   "metadata": {},
   "outputs": [
    {
     "name": "stdout",
     "output_type": "stream",
     "text": [
      "+-------------+--------------+----------+-----------+------------------------------------------------------------+\n",
      "|constructorId|constructorRef|name      |nationality|url                                                         |\n",
      "+-------------+--------------+----------+-----------+------------------------------------------------------------+\n",
      "|1            |mclaren       |McLaren   |British    |http://en.wikipedia.org/wiki/McLaren                        |\n",
      "|2            |bmw_sauber    |BMW Sauber|German     |http://en.wikipedia.org/wiki/BMW_Sauber                     |\n",
      "|3            |williams      |Williams  |British    |http://en.wikipedia.org/wiki/Williams_Grand_Prix_Engineering|\n",
      "|4            |renault       |Renault   |French     |http://en.wikipedia.org/wiki/Renault_in_Formula_One         |\n",
      "|5            |toro_rosso    |Toro Rosso|Italian    |http://en.wikipedia.org/wiki/Scuderia_Toro_Rosso            |\n",
      "+-------------+--------------+----------+-----------+------------------------------------------------------------+\n",
      "only showing top 5 rows\n",
      "\n"
     ]
    }
   ],
   "source": [
    "constructor_df.show(5,false)"
   ]
  },
  {
   "cell_type": "code",
   "execution_count": 9,
   "id": "8f50c1ea",
   "metadata": {},
   "outputs": [
    {
     "name": "stdout",
     "output_type": "stream",
     "text": [
      "+-----------------+------+--------+------+--------+------------+----+\n",
      "|driverStandingsId|raceId|driverId|points|position|positionText|wins|\n",
      "+-----------------+------+--------+------+--------+------------+----+\n",
      "|1                |18    |1       |10    |1       |1           |1   |\n",
      "|2                |18    |2       |8     |2       |2           |0   |\n",
      "|3                |18    |3       |6     |3       |3           |0   |\n",
      "|4                |18    |4       |5     |4       |4           |0   |\n",
      "|5                |18    |5       |4     |5       |5           |0   |\n",
      "+-----------------+------+--------+------+--------+------------+----+\n",
      "only showing top 5 rows\n",
      "\n"
     ]
    }
   ],
   "source": [
    "driver_standings_df.show(5,false)"
   ]
  },
  {
   "cell_type": "code",
   "execution_count": 10,
   "id": "24225f16",
   "metadata": {},
   "outputs": [
    {
     "name": "stdout",
     "output_type": "stream",
     "text": [
      "+---------+-----------+------------------------------+------------+---------+--------+-------+---+-----------------------------------------------------------+\n",
      "|circuitId|circuitRef |name                          |location    |country  |lat     |lng    |alt|url                                                        |\n",
      "+---------+-----------+------------------------------+------------+---------+--------+-------+---+-----------------------------------------------------------+\n",
      "|1        |albert_park|Albert Park Grand Prix Circuit|Melbourne   |Australia|-37.8497|144.968|10 |http://en.wikipedia.org/wiki/Melbourne_Grand_Prix_Circuit  |\n",
      "|2        |sepang     |Sepang International Circuit  |Kuala Lumpur|Malaysia |2.76083 |101.738|18 |http://en.wikipedia.org/wiki/Sepang_International_Circuit  |\n",
      "|3        |bahrain    |Bahrain International Circuit |Sakhir      |Bahrain  |26.0325 |50.5106|7  |http://en.wikipedia.org/wiki/Bahrain_International_Circuit |\n",
      "|4        |catalunya  |Circuit de Barcelona-Catalunya|Montmeló    |Spain    |41.57   |2.26111|109|http://en.wikipedia.org/wiki/Circuit_de_Barcelona-Catalunya|\n",
      "|5        |istanbul   |Istanbul Park                 |Istanbul    |Turkey   |40.9517 |29.405 |130|http://en.wikipedia.org/wiki/Istanbul_Park                 |\n",
      "+---------+-----------+------------------------------+------------+---------+--------+-------+---+-----------------------------------------------------------+\n",
      "only showing top 5 rows\n",
      "\n"
     ]
    }
   ],
   "source": [
    "circuits_df.show(5,false)"
   ]
  },
  {
   "cell_type": "code",
   "execution_count": 11,
   "id": "a66e490e",
   "metadata": {},
   "outputs": [
    {
     "name": "stdout",
     "output_type": "stream",
     "text": [
      "+----+----------------------------------------------------+\n",
      "|year|url                                                 |\n",
      "+----+----------------------------------------------------+\n",
      "|2009|http://en.wikipedia.org/wiki/2009_Formula_One_season|\n",
      "|2008|http://en.wikipedia.org/wiki/2008_Formula_One_season|\n",
      "|2007|http://en.wikipedia.org/wiki/2007_Formula_One_season|\n",
      "|2006|http://en.wikipedia.org/wiki/2006_Formula_One_season|\n",
      "|2005|http://en.wikipedia.org/wiki/2005_Formula_One_season|\n",
      "+----+----------------------------------------------------+\n",
      "only showing top 5 rows\n",
      "\n"
     ]
    }
   ],
   "source": [
    "seasons_df.show(5,false)"
   ]
  },
  {
   "cell_type": "code",
   "execution_count": 12,
   "id": "05719389",
   "metadata": {},
   "outputs": [
    {
     "name": "stdout",
     "output_type": "stream",
     "text": [
      "+------+--------+---+--------+--------+------------+\n",
      "|raceId|driverId|lap|position|time    |milliseconds|\n",
      "+------+--------+---+--------+--------+------------+\n",
      "|841   |20      |1  |1       |1:38.109|98109       |\n",
      "|841   |20      |2  |1       |1:33.006|93006       |\n",
      "|841   |20      |3  |1       |1:32.713|92713       |\n",
      "|841   |20      |4  |1       |1:32.803|92803       |\n",
      "|841   |20      |5  |1       |1:32.342|92342       |\n",
      "+------+--------+---+--------+--------+------------+\n",
      "only showing top 5 rows\n",
      "\n"
     ]
    }
   ],
   "source": [
    "laptimes_df.show(5,false)"
   ]
  },
  {
   "cell_type": "code",
   "execution_count": 13,
   "id": "13351aea",
   "metadata": {},
   "outputs": [
    {
     "name": "stdout",
     "output_type": "stream",
     "text": [
      "+------+--------+----+---+--------+--------+------------+\n",
      "|raceId|driverId|stop|lap|time    |duration|milliseconds|\n",
      "+------+--------+----+---+--------+--------+------------+\n",
      "|841   |153     |1   |1  |17:05:23|26.898  |26898       |\n",
      "|841   |30      |1   |1  |17:05:52|25.021  |25021       |\n",
      "|841   |17      |1   |11 |17:20:48|23.426  |23426       |\n",
      "|841   |4       |1   |12 |17:22:34|23.251  |23251       |\n",
      "|841   |13      |1   |13 |17:24:10|23.842  |23842       |\n",
      "+------+--------+----+---+--------+--------+------------+\n",
      "only showing top 5 rows\n",
      "\n"
     ]
    }
   ],
   "source": [
    "pitstops_df.show(5,false)"
   ]
  },
  {
   "cell_type": "code",
   "execution_count": 14,
   "id": "3d04428f",
   "metadata": {},
   "outputs": [
    {
     "name": "stdout",
     "output_type": "stream",
     "text": [
      "root\n",
      " |-- statusId: string (nullable = true)\n",
      " |-- status: string (nullable = true)\n",
      "\n"
     ]
    }
   ],
   "source": [
    "stats_df.printSchema()"
   ]
  },
  {
   "cell_type": "markdown",
   "id": "0330a48d",
   "metadata": {},
   "source": [
    "### Feature Engineering"
   ]
  },
  {
   "cell_type": "code",
   "execution_count": 15,
   "id": "88051b51",
   "metadata": {},
   "outputs": [
    {
     "data": {
      "text/plain": [
       "import org.apache.spark.sql.functions.col\n"
      ]
     },
     "execution_count": 15,
     "metadata": {},
     "output_type": "execute_result"
    }
   ],
   "source": [
    "import org.apache.spark.sql.functions.col"
   ]
  },
  {
   "cell_type": "code",
   "execution_count": 16,
   "id": "a6c01dd2",
   "metadata": {},
   "outputs": [
    {
     "name": "stdout",
     "output_type": "stream",
     "text": [
      "+------+\n",
      "|raceId|\n",
      "+------+\n",
      "|1     |\n",
      "|2     |\n",
      "|3     |\n",
      "|4     |\n",
      "|5     |\n",
      "+------+\n",
      "only showing top 5 rows\n",
      "\n"
     ]
    }
   ],
   "source": [
    "\n",
    "races_df.select(col(\"raceId\")).show(5,false)"
   ]
  },
  {
   "cell_type": "code",
   "execution_count": 17,
   "id": "bd0aecf4",
   "metadata": {},
   "outputs": [
    {
     "name": "stdout",
     "output_type": "stream",
     "text": [
      "root\n",
      " |-- raceId: string (nullable = true)\n",
      " |-- year: string (nullable = true)\n",
      " |-- round: string (nullable = true)\n",
      " |-- circuitId: string (nullable = true)\n",
      " |-- name: string (nullable = true)\n",
      " |-- date: string (nullable = true)\n",
      " |-- time: string (nullable = true)\n",
      " |-- url: string (nullable = true)\n",
      " |-- fp1_date: string (nullable = true)\n",
      " |-- fp1_time: string (nullable = true)\n",
      " |-- fp2_date: string (nullable = true)\n",
      " |-- fp2_time: string (nullable = true)\n",
      " |-- fp3_date: string (nullable = true)\n",
      " |-- fp3_time: string (nullable = true)\n",
      " |-- quali_date: string (nullable = true)\n",
      " |-- quali_time: string (nullable = true)\n",
      " |-- sprint_date: string (nullable = true)\n",
      " |-- sprint_time: string (nullable = true)\n",
      "\n"
     ]
    }
   ],
   "source": [
    "races_df.printSchema()"
   ]
  },
  {
   "cell_type": "code",
   "execution_count": 18,
   "id": "a306178c",
   "metadata": {},
   "outputs": [
    {
     "data": {
      "text/plain": [
       "races_df_clean: org.apache.spark.sql.DataFrame = [raceId: int, year: int ... 16 more fields]\n"
      ]
     },
     "execution_count": 18,
     "metadata": {},
     "output_type": "execute_result"
    }
   ],
   "source": [
    "val races_df_clean = races_df\n",
    "  .withColumn(\"raceId\", col(\"raceId\").cast(\"Integer\"))\n",
    "  .withColumn(\"year\", col(\"year\").cast(\"Integer\"))\n",
    "  .withColumn(\"round\", col(\"round\").cast(\"Integer\"))\n",
    "  .withColumn(\"circuitId\", col(\"circuitId\").cast(\"Integer\"))\n",
    "  .withColumn(\"date\", to_date(col(\"date\"), \"yyyy-MM-dd\"))\n",
    "  .withColumn(\"time\", to_timestamp(col(\"time\"), \"HH:mm:ss\"))\n",
    "  //.withColumn(\"PassengerId\", col(\"PassengerId\").cast(\"Integer\"))"
   ]
  },
  {
   "cell_type": "code",
   "execution_count": 19,
   "id": "383e3fa3",
   "metadata": {},
   "outputs": [
    {
     "name": "stdout",
     "output_type": "stream",
     "text": [
      "+------+----+-----+---------+---------------------+----------+-------------------+-------------------------------------------------------+--------+--------+--------+--------+--------+--------+----------+----------+-----------+-----------+\n",
      "|raceId|year|round|circuitId|name                 |date      |time               |url                                                    |fp1_date|fp1_time|fp2_date|fp2_time|fp3_date|fp3_time|quali_date|quali_time|sprint_date|sprint_time|\n",
      "+------+----+-----+---------+---------------------+----------+-------------------+-------------------------------------------------------+--------+--------+--------+--------+--------+--------+----------+----------+-----------+-----------+\n",
      "|1     |2009|1    |1        |Australian Grand Prix|2009-03-29|1970-01-01 06:00:00|http://en.wikipedia.org/wiki/2009_Australian_Grand_Prix|\\N      |\\N      |\\N      |\\N      |\\N      |\\N      |\\N        |\\N        |\\N         |\\N         |\n",
      "|2     |2009|2    |2        |Malaysian Grand Prix |2009-04-05|1970-01-01 09:00:00|http://en.wikipedia.org/wiki/2009_Malaysian_Grand_Prix |\\N      |\\N      |\\N      |\\N      |\\N      |\\N      |\\N        |\\N        |\\N         |\\N         |\n",
      "|3     |2009|3    |17       |Chinese Grand Prix   |2009-04-19|1970-01-01 07:00:00|http://en.wikipedia.org/wiki/2009_Chinese_Grand_Prix   |\\N      |\\N      |\\N      |\\N      |\\N      |\\N      |\\N        |\\N        |\\N         |\\N         |\n",
      "|4     |2009|4    |3        |Bahrain Grand Prix   |2009-04-26|1970-01-01 12:00:00|http://en.wikipedia.org/wiki/2009_Bahrain_Grand_Prix   |\\N      |\\N      |\\N      |\\N      |\\N      |\\N      |\\N        |\\N        |\\N         |\\N         |\n",
      "|5     |2009|5    |4        |Spanish Grand Prix   |2009-05-10|1970-01-01 12:00:00|http://en.wikipedia.org/wiki/2009_Spanish_Grand_Prix   |\\N      |\\N      |\\N      |\\N      |\\N      |\\N      |\\N        |\\N        |\\N         |\\N         |\n",
      "+------+----+-----+---------+---------------------+----------+-------------------+-------------------------------------------------------+--------+--------+--------+--------+--------+--------+----------+----------+-----------+-----------+\n",
      "only showing top 5 rows\n",
      "\n"
     ]
    }
   ],
   "source": [
    "races_df_clean.show(5,false)"
   ]
  },
  {
   "cell_type": "code",
   "execution_count": 20,
   "id": "6db4b18b",
   "metadata": {},
   "outputs": [
    {
     "name": "stdout",
     "output_type": "stream",
     "text": [
      "root\n",
      " |-- raceId: integer (nullable = true)\n",
      " |-- year: integer (nullable = true)\n",
      " |-- round: integer (nullable = true)\n",
      " |-- circuitId: integer (nullable = true)\n",
      " |-- name: string (nullable = true)\n",
      " |-- date: date (nullable = true)\n",
      " |-- time: timestamp (nullable = true)\n",
      " |-- url: string (nullable = true)\n",
      " |-- fp1_date: string (nullable = true)\n",
      " |-- fp1_time: string (nullable = true)\n",
      " |-- fp2_date: string (nullable = true)\n",
      " |-- fp2_time: string (nullable = true)\n",
      " |-- fp3_date: string (nullable = true)\n",
      " |-- fp3_time: string (nullable = true)\n",
      " |-- quali_date: string (nullable = true)\n",
      " |-- quali_time: string (nullable = true)\n",
      " |-- sprint_date: string (nullable = true)\n",
      " |-- sprint_time: string (nullable = true)\n",
      "\n"
     ]
    }
   ],
   "source": [
    "races_df_clean.printSchema()"
   ]
  },
  {
   "cell_type": "code",
   "execution_count": 21,
   "id": "935166f4",
   "metadata": {},
   "outputs": [
    {
     "name": "stdout",
     "output_type": "stream",
     "text": [
      "root\n",
      " |-- resultId: string (nullable = true)\n",
      " |-- raceId: string (nullable = true)\n",
      " |-- driverId: string (nullable = true)\n",
      " |-- constructorId: string (nullable = true)\n",
      " |-- number: string (nullable = true)\n",
      " |-- grid: string (nullable = true)\n",
      " |-- position: string (nullable = true)\n",
      " |-- positionText: string (nullable = true)\n",
      " |-- positionOrder: string (nullable = true)\n",
      " |-- points: string (nullable = true)\n",
      " |-- laps: string (nullable = true)\n",
      " |-- time: string (nullable = true)\n",
      " |-- milliseconds: string (nullable = true)\n",
      " |-- fastestLap: string (nullable = true)\n",
      " |-- rank: string (nullable = true)\n",
      " |-- fastestLapTime: string (nullable = true)\n",
      " |-- fastestLapSpeed: string (nullable = true)\n",
      " |-- statusId: string (nullable = true)\n",
      "\n"
     ]
    }
   ],
   "source": [
    "result_df.printSchema()"
   ]
  },
  {
   "cell_type": "code",
   "execution_count": 22,
   "id": "b514b1ec",
   "metadata": {},
   "outputs": [
    {
     "name": "stdout",
     "output_type": "stream",
     "text": [
      "+--------+------+--------+-------------+------+----+--------+------------+-------------+------+----+-----------+------------+----------+----+--------------+---------------+--------+\n",
      "|resultId|raceId|driverId|constructorId|number|grid|position|positionText|positionOrder|points|laps|time       |milliseconds|fastestLap|rank|fastestLapTime|fastestLapSpeed|statusId|\n",
      "+--------+------+--------+-------------+------+----+--------+------------+-------------+------+----+-----------+------------+----------+----+--------------+---------------+--------+\n",
      "|1       |18    |1       |1            |22    |1   |1       |1           |1            |10    |58  |1:34:50.616|5690616     |39        |2   |1:27.452      |218.300        |1       |\n",
      "|2       |18    |2       |2            |3     |5   |2       |2           |2            |8     |58  |+5.478     |5696094     |41        |3   |1:27.739      |217.586        |1       |\n",
      "|3       |18    |3       |3            |7     |7   |3       |3           |3            |6     |58  |+8.163     |5698779     |41        |5   |1:28.090      |216.719        |1       |\n",
      "|4       |18    |4       |4            |5     |11  |4       |4           |4            |5     |58  |+17.181    |5707797     |58        |7   |1:28.603      |215.464        |1       |\n",
      "|5       |18    |5       |1            |23    |3   |5       |5           |5            |4     |58  |+18.014    |5708630     |43        |1   |1:27.418      |218.385        |1       |\n",
      "+--------+------+--------+-------------+------+----+--------+------------+-------------+------+----+-----------+------------+----------+----+--------------+---------------+--------+\n",
      "only showing top 5 rows\n",
      "\n"
     ]
    }
   ],
   "source": [
    "result_df.show(5,false) "
   ]
  },
  {
   "cell_type": "code",
   "execution_count": 23,
   "id": "4bae3812",
   "metadata": {},
   "outputs": [
    {
     "data": {
      "text/plain": [
       "result_df_clean: org.apache.spark.sql.DataFrame = [resultId: int, raceId: int ... 16 more fields]\n"
      ]
     },
     "execution_count": 23,
     "metadata": {},
     "output_type": "execute_result"
    }
   ],
   "source": [
    "val result_df_clean = result_df\n",
    "  .withColumn(\"resultId\", col(\"resultId\").cast(\"Integer\"))\n",
    "  .withColumn(\"raceId\", col(\"raceId\").cast(\"Integer\"))\n",
    "  .withColumn(\"driverId\", col(\"driverId\").cast(\"Integer\"))\n",
    "  .withColumn(\"constructorId\", col(\"constructorId\").cast(\"Integer\"))\n",
    "  .withColumn(\"number\", col(\"number\").cast(\"Integer\"))\n",
    "  .withColumn(\"grid\", col(\"grid\").cast(\"Integer\"))\n",
    "  .withColumn(\"position\", col(\"position\").cast(\"Integer\"))\n",
    "  .withColumn(\"positionText\", col(\"positionText\").cast(\"Integer\"))\n",
    "  .withColumn(\"positionOrder\", col(\"positionOrder\").cast(\"Integer\"))\n",
    "  .withColumn(\"points\", col(\"points\").cast(\"Integer\"))\n",
    "  .withColumn(\"laps\", col(\"laps\").cast(\"Integer\"))\n",
    "  .withColumn(\"milliseconds\", col(\"milliseconds\").cast(\"Integer\"))\n",
    "  .withColumn(\"fastestLap\", col(\"fastestLap\").cast(\"Integer\"))\n",
    "  .withColumn(\"rank\", col(\"rank\").cast(\"Integer\"))\n",
    "  .withColumn(\"statusId\", col(\"statusId\").cast(\"Integer\"))\n",
    "  .withColumn(\"fastestLapSpeed\", col(\"fastestLapSpeed\").cast(\"Double\"))\n",
    "  //.withColumn(\"date\", to_date(col(\"date\"), \"yyyy-MM-dd\"))\n",
    "  //.withColumn(\"fastestLapTime\", to_timestamp(col(\"fastestLapTime\"), \"HH:mm.sss\"))"
   ]
  },
  {
   "cell_type": "code",
   "execution_count": 24,
   "id": "3726984f",
   "metadata": {},
   "outputs": [
    {
     "name": "stdout",
     "output_type": "stream",
     "text": [
      "+--------+------+--------+-------------+------+----+--------+------------+-------------+------+----+-----------+------------+----------+----+--------------+---------------+--------+\n",
      "|resultId|raceId|driverId|constructorId|number|grid|position|positionText|positionOrder|points|laps|time       |milliseconds|fastestLap|rank|fastestLapTime|fastestLapSpeed|statusId|\n",
      "+--------+------+--------+-------------+------+----+--------+------------+-------------+------+----+-----------+------------+----------+----+--------------+---------------+--------+\n",
      "|1       |18    |1       |1            |22    |1   |1       |1           |1            |10    |58  |1:34:50.616|5690616     |39        |2   |1:27.452      |218.3          |1       |\n",
      "|2       |18    |2       |2            |3     |5   |2       |2           |2            |8     |58  |+5.478     |5696094     |41        |3   |1:27.739      |217.586        |1       |\n",
      "|3       |18    |3       |3            |7     |7   |3       |3           |3            |6     |58  |+8.163     |5698779     |41        |5   |1:28.090      |216.719        |1       |\n",
      "|4       |18    |4       |4            |5     |11  |4       |4           |4            |5     |58  |+17.181    |5707797     |58        |7   |1:28.603      |215.464        |1       |\n",
      "|5       |18    |5       |1            |23    |3   |5       |5           |5            |4     |58  |+18.014    |5708630     |43        |1   |1:27.418      |218.385        |1       |\n",
      "+--------+------+--------+-------------+------+----+--------+------------+-------------+------+----+-----------+------------+----------+----+--------------+---------------+--------+\n",
      "only showing top 5 rows\n",
      "\n"
     ]
    }
   ],
   "source": [
    "result_df_clean.show(5,false)"
   ]
  },
  {
   "cell_type": "code",
   "execution_count": 25,
   "id": "67e56d1a",
   "metadata": {},
   "outputs": [
    {
     "name": "stdout",
     "output_type": "stream",
     "text": [
      "root\n",
      " |-- resultId: integer (nullable = true)\n",
      " |-- raceId: integer (nullable = true)\n",
      " |-- driverId: integer (nullable = true)\n",
      " |-- constructorId: integer (nullable = true)\n",
      " |-- number: integer (nullable = true)\n",
      " |-- grid: integer (nullable = true)\n",
      " |-- position: integer (nullable = true)\n",
      " |-- positionText: integer (nullable = true)\n",
      " |-- positionOrder: integer (nullable = true)\n",
      " |-- points: integer (nullable = true)\n",
      " |-- laps: integer (nullable = true)\n",
      " |-- time: string (nullable = true)\n",
      " |-- milliseconds: integer (nullable = true)\n",
      " |-- fastestLap: integer (nullable = true)\n",
      " |-- rank: integer (nullable = true)\n",
      " |-- fastestLapTime: string (nullable = true)\n",
      " |-- fastestLapSpeed: double (nullable = true)\n",
      " |-- statusId: integer (nullable = true)\n",
      "\n"
     ]
    }
   ],
   "source": [
    "result_df_clean.printSchema()"
   ]
  },
  {
   "cell_type": "code",
   "execution_count": 26,
   "id": "1bfc30b7",
   "metadata": {},
   "outputs": [
    {
     "name": "stdout",
     "output_type": "stream",
     "text": [
      "+--------+----------+------+----+--------+----------+----------+-----------+----------------------------------------------+\n",
      "|driverId|driverRef |number|code|forename|surname   |dob       |nationality|url                                           |\n",
      "+--------+----------+------+----+--------+----------+----------+-----------+----------------------------------------------+\n",
      "|1       |hamilton  |44    |HAM |Lewis   |Hamilton  |1985-01-07|British    |http://en.wikipedia.org/wiki/Lewis_Hamilton   |\n",
      "|2       |heidfeld  |\\N    |HEI |Nick    |Heidfeld  |1977-05-10|German     |http://en.wikipedia.org/wiki/Nick_Heidfeld    |\n",
      "|3       |rosberg   |6     |ROS |Nico    |Rosberg   |1985-06-27|German     |http://en.wikipedia.org/wiki/Nico_Rosberg     |\n",
      "|4       |alonso    |14    |ALO |Fernando|Alonso    |1981-07-29|Spanish    |http://en.wikipedia.org/wiki/Fernando_Alonso  |\n",
      "|5       |kovalainen|\\N    |KOV |Heikki  |Kovalainen|1981-10-19|Finnish    |http://en.wikipedia.org/wiki/Heikki_Kovalainen|\n",
      "+--------+----------+------+----+--------+----------+----------+-----------+----------------------------------------------+\n",
      "only showing top 5 rows\n",
      "\n"
     ]
    }
   ],
   "source": [
    "drivers_df.show(5,false)"
   ]
  },
  {
   "cell_type": "code",
   "execution_count": 27,
   "id": "d99a5cc7",
   "metadata": {},
   "outputs": [
    {
     "name": "stdout",
     "output_type": "stream",
     "text": [
      "root\n",
      " |-- driverId: string (nullable = true)\n",
      " |-- driverRef: string (nullable = true)\n",
      " |-- number: string (nullable = true)\n",
      " |-- code: string (nullable = true)\n",
      " |-- forename: string (nullable = true)\n",
      " |-- surname: string (nullable = true)\n",
      " |-- dob: string (nullable = true)\n",
      " |-- nationality: string (nullable = true)\n",
      " |-- url: string (nullable = true)\n",
      "\n"
     ]
    }
   ],
   "source": [
    "drivers_df.printSchema()"
   ]
  },
  {
   "cell_type": "code",
   "execution_count": 28,
   "id": "e1a5ffd8",
   "metadata": {},
   "outputs": [
    {
     "data": {
      "text/plain": [
       "drivers_df_clean: org.apache.spark.sql.DataFrame = [driverId: int, driverRef: string ... 7 more fields]\n"
      ]
     },
     "execution_count": 28,
     "metadata": {},
     "output_type": "execute_result"
    }
   ],
   "source": [
    "val drivers_df_clean = drivers_df\n",
    "  .withColumn(\"driverId\", col(\"driverId\").cast(\"Integer\"))\n",
    "  .withColumn(\"number\", col(\"number\").cast(\"Integer\"))\n",
    "  .withColumn(\"dob\", to_date(col(\"dob\"), \"yyyy-MM-dd\"))"
   ]
  },
  {
   "cell_type": "code",
   "execution_count": 29,
   "id": "b0e00102",
   "metadata": {},
   "outputs": [
    {
     "name": "stdout",
     "output_type": "stream",
     "text": [
      "root\n",
      " |-- driverId: integer (nullable = true)\n",
      " |-- driverRef: string (nullable = true)\n",
      " |-- number: integer (nullable = true)\n",
      " |-- code: string (nullable = true)\n",
      " |-- forename: string (nullable = true)\n",
      " |-- surname: string (nullable = true)\n",
      " |-- dob: date (nullable = true)\n",
      " |-- nationality: string (nullable = true)\n",
      " |-- url: string (nullable = true)\n",
      "\n"
     ]
    }
   ],
   "source": [
    "drivers_df_clean.printSchema()"
   ]
  },
  {
   "cell_type": "code",
   "execution_count": 30,
   "id": "6b3a7d36",
   "metadata": {},
   "outputs": [
    {
     "name": "stdout",
     "output_type": "stream",
     "text": [
      "+-------------+--------------+----------+-----------+------------------------------------------------------------+\n",
      "|constructorId|constructorRef|name      |nationality|url                                                         |\n",
      "+-------------+--------------+----------+-----------+------------------------------------------------------------+\n",
      "|1            |mclaren       |McLaren   |British    |http://en.wikipedia.org/wiki/McLaren                        |\n",
      "|2            |bmw_sauber    |BMW Sauber|German     |http://en.wikipedia.org/wiki/BMW_Sauber                     |\n",
      "|3            |williams      |Williams  |British    |http://en.wikipedia.org/wiki/Williams_Grand_Prix_Engineering|\n",
      "|4            |renault       |Renault   |French     |http://en.wikipedia.org/wiki/Renault_in_Formula_One         |\n",
      "|5            |toro_rosso    |Toro Rosso|Italian    |http://en.wikipedia.org/wiki/Scuderia_Toro_Rosso            |\n",
      "+-------------+--------------+----------+-----------+------------------------------------------------------------+\n",
      "only showing top 5 rows\n",
      "\n"
     ]
    }
   ],
   "source": [
    "constructor_df.show(5,false)"
   ]
  },
  {
   "cell_type": "code",
   "execution_count": 31,
   "id": "cf592230",
   "metadata": {},
   "outputs": [
    {
     "name": "stdout",
     "output_type": "stream",
     "text": [
      "root\n",
      " |-- constructorId: string (nullable = true)\n",
      " |-- constructorRef: string (nullable = true)\n",
      " |-- name: string (nullable = true)\n",
      " |-- nationality: string (nullable = true)\n",
      " |-- url: string (nullable = true)\n",
      "\n"
     ]
    }
   ],
   "source": [
    "constructor_df.printSchema()"
   ]
  },
  {
   "cell_type": "code",
   "execution_count": 32,
   "id": "cb6ffa67",
   "metadata": {},
   "outputs": [
    {
     "data": {
      "text/plain": [
       "constructor_df_clean: org.apache.spark.sql.DataFrame = [constructorId: int, constructorRef: string ... 3 more fields]\n"
      ]
     },
     "execution_count": 32,
     "metadata": {},
     "output_type": "execute_result"
    }
   ],
   "source": [
    "val constructor_df_clean = constructor_df\n",
    "  .withColumn(\"constructorId\", col(\"constructorId\").cast(\"Integer\"))"
   ]
  },
  {
   "cell_type": "code",
   "execution_count": 33,
   "id": "120fd6c0",
   "metadata": {},
   "outputs": [
    {
     "name": "stdout",
     "output_type": "stream",
     "text": [
      "root\n",
      " |-- constructorId: integer (nullable = true)\n",
      " |-- constructorRef: string (nullable = true)\n",
      " |-- name: string (nullable = true)\n",
      " |-- nationality: string (nullable = true)\n",
      " |-- url: string (nullable = true)\n",
      "\n"
     ]
    }
   ],
   "source": [
    "constructor_df_clean.printSchema()"
   ]
  },
  {
   "cell_type": "code",
   "execution_count": 34,
   "id": "f90faa3a",
   "metadata": {},
   "outputs": [
    {
     "name": "stdout",
     "output_type": "stream",
     "text": [
      "+-----------------+------+--------+------+--------+------------+----+\n",
      "|driverStandingsId|raceId|driverId|points|position|positionText|wins|\n",
      "+-----------------+------+--------+------+--------+------------+----+\n",
      "|1                |18    |1       |10    |1       |1           |1   |\n",
      "|2                |18    |2       |8     |2       |2           |0   |\n",
      "|3                |18    |3       |6     |3       |3           |0   |\n",
      "|4                |18    |4       |5     |4       |4           |0   |\n",
      "|5                |18    |5       |4     |5       |5           |0   |\n",
      "+-----------------+------+--------+------+--------+------------+----+\n",
      "only showing top 5 rows\n",
      "\n"
     ]
    }
   ],
   "source": [
    "driver_standings_df.show(5,false)"
   ]
  },
  {
   "cell_type": "code",
   "execution_count": 35,
   "id": "10a8c19c",
   "metadata": {},
   "outputs": [
    {
     "name": "stdout",
     "output_type": "stream",
     "text": [
      "root\n",
      " |-- driverStandingsId: string (nullable = true)\n",
      " |-- raceId: string (nullable = true)\n",
      " |-- driverId: string (nullable = true)\n",
      " |-- points: string (nullable = true)\n",
      " |-- position: string (nullable = true)\n",
      " |-- positionText: string (nullable = true)\n",
      " |-- wins: string (nullable = true)\n",
      "\n"
     ]
    }
   ],
   "source": [
    "driver_standings_df.printSchema()"
   ]
  },
  {
   "cell_type": "code",
   "execution_count": 36,
   "id": "b0e92ed7",
   "metadata": {},
   "outputs": [
    {
     "data": {
      "text/plain": [
       "driver_standings_df_clean: org.apache.spark.sql.DataFrame = [driverStandingsId: int, raceId: int ... 5 more fields]\n"
      ]
     },
     "execution_count": 36,
     "metadata": {},
     "output_type": "execute_result"
    }
   ],
   "source": [
    "val driver_standings_df_clean = driver_standings_df\n",
    "  .withColumn(\"driverStandingsId\", col(\"driverStandingsId\").cast(\"Integer\"))\n",
    "  .withColumn(\"raceId\", col(\"raceId\").cast(\"Integer\"))\n",
    "  .withColumn(\"driverId\", col(\"driverId\").cast(\"Integer\"))\n",
    "  .withColumn(\"points\", col(\"points\").cast(\"Integer\"))\n",
    "  .withColumn(\"position\", col(\"position\").cast(\"Integer\"))\n",
    "  .withColumn(\"positionText\", col(\"positionText\").cast(\"Integer\"))\n",
    "  .withColumn(\"wins\", col(\"wins\").cast(\"Integer\"))"
   ]
  },
  {
   "cell_type": "code",
   "execution_count": 37,
   "id": "8616e25c",
   "metadata": {},
   "outputs": [
    {
     "name": "stdout",
     "output_type": "stream",
     "text": [
      "root\n",
      " |-- driverStandingsId: integer (nullable = true)\n",
      " |-- raceId: integer (nullable = true)\n",
      " |-- driverId: integer (nullable = true)\n",
      " |-- points: integer (nullable = true)\n",
      " |-- position: integer (nullable = true)\n",
      " |-- positionText: integer (nullable = true)\n",
      " |-- wins: integer (nullable = true)\n",
      "\n"
     ]
    }
   ],
   "source": [
    "driver_standings_df_clean.printSchema()"
   ]
  },
  {
   "cell_type": "code",
   "execution_count": 38,
   "id": "9f3b019e",
   "metadata": {},
   "outputs": [
    {
     "name": "stdout",
     "output_type": "stream",
     "text": [
      "+---------+-----------+------------------------------+------------+---------+--------+-------+---+-----------------------------------------------------------+\n",
      "|circuitId|circuitRef |name                          |location    |country  |lat     |lng    |alt|url                                                        |\n",
      "+---------+-----------+------------------------------+------------+---------+--------+-------+---+-----------------------------------------------------------+\n",
      "|1        |albert_park|Albert Park Grand Prix Circuit|Melbourne   |Australia|-37.8497|144.968|10 |http://en.wikipedia.org/wiki/Melbourne_Grand_Prix_Circuit  |\n",
      "|2        |sepang     |Sepang International Circuit  |Kuala Lumpur|Malaysia |2.76083 |101.738|18 |http://en.wikipedia.org/wiki/Sepang_International_Circuit  |\n",
      "|3        |bahrain    |Bahrain International Circuit |Sakhir      |Bahrain  |26.0325 |50.5106|7  |http://en.wikipedia.org/wiki/Bahrain_International_Circuit |\n",
      "|4        |catalunya  |Circuit de Barcelona-Catalunya|Montmeló    |Spain    |41.57   |2.26111|109|http://en.wikipedia.org/wiki/Circuit_de_Barcelona-Catalunya|\n",
      "|5        |istanbul   |Istanbul Park                 |Istanbul    |Turkey   |40.9517 |29.405 |130|http://en.wikipedia.org/wiki/Istanbul_Park                 |\n",
      "+---------+-----------+------------------------------+------------+---------+--------+-------+---+-----------------------------------------------------------+\n",
      "only showing top 5 rows\n",
      "\n"
     ]
    }
   ],
   "source": [
    "circuits_df.show(5,false)"
   ]
  },
  {
   "cell_type": "code",
   "execution_count": 39,
   "id": "83452bc7",
   "metadata": {
    "scrolled": true
   },
   "outputs": [
    {
     "name": "stdout",
     "output_type": "stream",
     "text": [
      "root\n",
      " |-- circuitId: string (nullable = true)\n",
      " |-- circuitRef: string (nullable = true)\n",
      " |-- name: string (nullable = true)\n",
      " |-- location: string (nullable = true)\n",
      " |-- country: string (nullable = true)\n",
      " |-- lat: string (nullable = true)\n",
      " |-- lng: string (nullable = true)\n",
      " |-- alt: string (nullable = true)\n",
      " |-- url: string (nullable = true)\n",
      "\n"
     ]
    }
   ],
   "source": [
    "circuits_df.printSchema()"
   ]
  },
  {
   "cell_type": "code",
   "execution_count": 40,
   "id": "7bb8b203",
   "metadata": {},
   "outputs": [
    {
     "data": {
      "text/plain": [
       "circuits_df_clean: org.apache.spark.sql.DataFrame = [circuitId: int, circuitRef: string ... 7 more fields]\n"
      ]
     },
     "execution_count": 40,
     "metadata": {},
     "output_type": "execute_result"
    }
   ],
   "source": [
    "val circuits_df_clean = circuits_df\n",
    "  .withColumn(\"circuitId\", col(\"circuitId\").cast(\"Integer\"))\n",
    "  .withColumn(\"lat\", col(\"lat\").cast(\"Double\"))\n",
    "  .withColumn(\"lng\", col(\"lng\").cast(\"Double\"))\n",
    "  .withColumn(\"alt\", col(\"alt\").cast(\"Integer\"))"
   ]
  },
  {
   "cell_type": "code",
   "execution_count": 41,
   "id": "621331fa",
   "metadata": {},
   "outputs": [
    {
     "name": "stdout",
     "output_type": "stream",
     "text": [
      "root\n",
      " |-- circuitId: integer (nullable = true)\n",
      " |-- circuitRef: string (nullable = true)\n",
      " |-- name: string (nullable = true)\n",
      " |-- location: string (nullable = true)\n",
      " |-- country: string (nullable = true)\n",
      " |-- lat: double (nullable = true)\n",
      " |-- lng: double (nullable = true)\n",
      " |-- alt: integer (nullable = true)\n",
      " |-- url: string (nullable = true)\n",
      "\n"
     ]
    }
   ],
   "source": [
    "circuits_df_clean.printSchema()"
   ]
  },
  {
   "cell_type": "code",
   "execution_count": 42,
   "id": "0c4b610c",
   "metadata": {},
   "outputs": [
    {
     "name": "stdout",
     "output_type": "stream",
     "text": [
      "root\n",
      " |-- raceId: string (nullable = true)\n",
      " |-- driverId: string (nullable = true)\n",
      " |-- lap: string (nullable = true)\n",
      " |-- position: string (nullable = true)\n",
      " |-- time: string (nullable = true)\n",
      " |-- milliseconds: string (nullable = true)\n",
      "\n"
     ]
    }
   ],
   "source": [
    "laptimes_df.printSchema()"
   ]
  },
  {
   "cell_type": "code",
   "execution_count": 43,
   "id": "78333e85",
   "metadata": {},
   "outputs": [
    {
     "name": "stdout",
     "output_type": "stream",
     "text": [
      "+------+--------+---+--------+--------+------------+\n",
      "|raceId|driverId|lap|position|time    |milliseconds|\n",
      "+------+--------+---+--------+--------+------------+\n",
      "|841   |20      |1  |1       |1:38.109|98109       |\n",
      "|841   |20      |2  |1       |1:33.006|93006       |\n",
      "|841   |20      |3  |1       |1:32.713|92713       |\n",
      "|841   |20      |4  |1       |1:32.803|92803       |\n",
      "|841   |20      |5  |1       |1:32.342|92342       |\n",
      "+------+--------+---+--------+--------+------------+\n",
      "only showing top 5 rows\n",
      "\n"
     ]
    }
   ],
   "source": [
    "laptimes_df.show(5,false)"
   ]
  },
  {
   "cell_type": "code",
   "execution_count": 44,
   "id": "88006632",
   "metadata": {},
   "outputs": [
    {
     "data": {
      "text/plain": [
       "laptimes_df_clean: org.apache.spark.sql.DataFrame = [raceId: int, driverId: int ... 4 more fields]\n"
      ]
     },
     "execution_count": 44,
     "metadata": {},
     "output_type": "execute_result"
    }
   ],
   "source": [
    "val laptimes_df_clean = laptimes_df\n",
    "  .withColumn(\"raceId\", col(\"raceId\").cast(\"Integer\"))\n",
    "  .withColumn(\"driverId\", col(\"driverId\").cast(\"Integer\"))\n",
    "  .withColumn(\"lap\", col(\"lap\").cast(\"Integer\"))\n",
    "  .withColumn(\"position\", col(\"position\").cast(\"Integer\"))\n",
    "  .withColumn(\"milliseconds\", col(\"milliseconds\").cast(\"Integer\"))"
   ]
  },
  {
   "cell_type": "code",
   "execution_count": 45,
   "id": "c99ae152",
   "metadata": {},
   "outputs": [
    {
     "name": "stdout",
     "output_type": "stream",
     "text": [
      "root\n",
      " |-- raceId: integer (nullable = true)\n",
      " |-- driverId: integer (nullable = true)\n",
      " |-- lap: integer (nullable = true)\n",
      " |-- position: integer (nullable = true)\n",
      " |-- time: string (nullable = true)\n",
      " |-- milliseconds: integer (nullable = true)\n",
      "\n"
     ]
    }
   ],
   "source": [
    "laptimes_df_clean.printSchema()"
   ]
  },
  {
   "cell_type": "code",
   "execution_count": 46,
   "id": "5b5bf030",
   "metadata": {},
   "outputs": [
    {
     "name": "stdout",
     "output_type": "stream",
     "text": [
      "root\n",
      " |-- raceId: string (nullable = true)\n",
      " |-- driverId: string (nullable = true)\n",
      " |-- stop: string (nullable = true)\n",
      " |-- lap: string (nullable = true)\n",
      " |-- time: string (nullable = true)\n",
      " |-- duration: string (nullable = true)\n",
      " |-- milliseconds: string (nullable = true)\n",
      "\n"
     ]
    }
   ],
   "source": [
    "pitstops_df.printSchema()"
   ]
  },
  {
   "cell_type": "code",
   "execution_count": 47,
   "id": "71c01425",
   "metadata": {},
   "outputs": [
    {
     "name": "stdout",
     "output_type": "stream",
     "text": [
      "+------+--------+----+---+--------+--------+------------+\n",
      "|raceId|driverId|stop|lap|time    |duration|milliseconds|\n",
      "+------+--------+----+---+--------+--------+------------+\n",
      "|841   |153     |1   |1  |17:05:23|26.898  |26898       |\n",
      "|841   |30      |1   |1  |17:05:52|25.021  |25021       |\n",
      "|841   |17      |1   |11 |17:20:48|23.426  |23426       |\n",
      "|841   |4       |1   |12 |17:22:34|23.251  |23251       |\n",
      "|841   |13      |1   |13 |17:24:10|23.842  |23842       |\n",
      "+------+--------+----+---+--------+--------+------------+\n",
      "only showing top 5 rows\n",
      "\n"
     ]
    }
   ],
   "source": [
    "pitstops_df.show(5,false)"
   ]
  },
  {
   "cell_type": "code",
   "execution_count": 48,
   "id": "4371d9ca",
   "metadata": {},
   "outputs": [
    {
     "data": {
      "text/plain": [
       "pitstops_df_clean: org.apache.spark.sql.DataFrame = [raceId: int, driverId: int ... 5 more fields]\n"
      ]
     },
     "execution_count": 48,
     "metadata": {},
     "output_type": "execute_result"
    }
   ],
   "source": [
    "val pitstops_df_clean = pitstops_df\n",
    "  .withColumn(\"raceId\", col(\"raceId\").cast(\"Integer\"))\n",
    "  .withColumn(\"driverId\", col(\"driverId\").cast(\"Integer\"))\n",
    "  .withColumn(\"stop\", col(\"stop\").cast(\"Integer\"))\n",
    "  .withColumn(\"lap\", col(\"lap\").cast(\"Integer\"))\n",
    "  .withColumn(\"duration\", col(\"duration\").cast(\"Integer\"))\n",
    "  .withColumn(\"milliseconds\", col(\"milliseconds\").cast(\"Integer\"))"
   ]
  },
  {
   "cell_type": "code",
   "execution_count": 49,
   "id": "42b146b4",
   "metadata": {},
   "outputs": [
    {
     "name": "stdout",
     "output_type": "stream",
     "text": [
      "root\n",
      " |-- raceId: integer (nullable = true)\n",
      " |-- driverId: integer (nullable = true)\n",
      " |-- stop: integer (nullable = true)\n",
      " |-- lap: integer (nullable = true)\n",
      " |-- time: string (nullable = true)\n",
      " |-- duration: integer (nullable = true)\n",
      " |-- milliseconds: integer (nullable = true)\n",
      "\n"
     ]
    }
   ],
   "source": [
    "pitstops_df_clean.printSchema()"
   ]
  },
  {
   "cell_type": "code",
   "execution_count": 50,
   "id": "355c6904",
   "metadata": {},
   "outputs": [
    {
     "data": {
      "text/plain": [
       "result_df_copy: org.apache.spark.sql.DataFrame = [resultId: int, raceId: int ... 16 more fields]\n",
       "races_df_copy: org.apache.spark.sql.DataFrame = [raceId: int, year: int ... 16 more fields]\n",
       "drivers_df_copy: org.apache.spark.sql.DataFrame = [driverId: int, driverRef: string ... 7 more fields]\n",
       "driver_standings_df_copy: org.apache.spark.sql.DataFrame = [driverStandingsId: int, raceId: int ... 5 more fields]\n",
       "constructor_df_copy: org.apache.spark.sql.DataFrame = [constructorId: int, constructorRef: string ... 3 more fields]\n",
       "stats_df_copy: org.apache.spark.sql.DataFrame = [statusId: string, status: string]\n",
       "circuits_df_copy: org.apache.spark.sql.DataFrame = [circuitId: int, circuitRef: string ... 7 more fields]\n",
       "laptimes_df_copy: org.apache.spark.sql.DataFrame = [raceId: int, driverId: int ... 4...\n"
      ]
     },
     "execution_count": 50,
     "metadata": {},
     "output_type": "execute_result"
    }
   ],
   "source": [
    "val result_df_copy = result_df_clean\n",
    "val races_df_copy = races_df_clean\n",
    "val drivers_df_copy = drivers_df_clean\n",
    "val driver_standings_df_copy = driver_standings_df_clean\n",
    "val constructor_df_copy = constructor_df_clean\n",
    "val stats_df_copy = stats_df\n",
    "val circuits_df_copy = circuits_df_clean\n",
    "val laptimes_df_copy = laptimes_df_clean\n",
    "val pitstops_df_copy = pitstops_df_clean\n",
    "val seasons_df_copy = seasons_df"
   ]
  },
  {
   "cell_type": "code",
   "execution_count": 51,
   "id": "01885cfc",
   "metadata": {},
   "outputs": [
    {
     "data": {
      "text/plain": [
       "columnsToRename1: List[(String, String)] = List((name,race_name), (time,race_time), (url,race_url))\n",
       "races_df_copy: org.apache.spark.sql.DataFrame = [raceId: int, year: int ... 16 more fields]\n",
       "columnsToRename2: List[(String, String)] = List((url,driver_url), (nationality,driver_nationality))\n",
       "drivers_df_copy: org.apache.spark.sql.DataFrame = [driverId: int, driverRef: string ... 7 more fields]\n",
       "columnsToRename3: List[(String, String)] = List((name,constructor_name), (url,constructor_url))\n",
       "constructor_df_copy: org.apache.spark.sql.DataFrame = [constructorId: int, constructorRef: string ... 3 more fields]\n",
       "columnsToRename4: List[(String, String)] = List((number,result_number), (position,result_position), (positionText,result_positionText))\n",
       "result_df_copy: org.apache.spark.sql.DataFrame = [res...\n"
      ]
     },
     "execution_count": 51,
     "metadata": {},
     "output_type": "execute_result"
    }
   ],
   "source": [
    "val columnsToRename1 = List((\"name\", \"race_name\"), (\"time\", \"race_time\"),(\"url\", \"race_url\"))\n",
    "\n",
    "var races_df_copy = races_df_clean\n",
    "for ((oldName, newName) <- columnsToRename1) {\n",
    "  races_df_copy = races_df_copy.withColumnRenamed(oldName, newName)\n",
    "}\n",
    "\n",
    "val columnsToRename2 = List( (\"url\", \"driver_url\"),(\"nationality\", \"driver_nationality\"))\n",
    "\n",
    "var drivers_df_copy = drivers_df_clean\n",
    "for ((oldName, newName) <- columnsToRename2) {\n",
    "  drivers_df_copy = drivers_df_copy.withColumnRenamed(oldName, newName)\n",
    "}\n",
    "\n",
    "val columnsToRename3 = List((\"name\", \"constructor_name\"), (\"url\", \"constructor_url\"))\n",
    "\n",
    "var constructor_df_copy = constructor_df_clean\n",
    "for ((oldName, newName) <- columnsToRename3) {\n",
    "  constructor_df_copy = constructor_df_copy.withColumnRenamed(oldName, newName)\n",
    "}\n",
    "\n",
    "val columnsToRename4 = List((\"number\", \"result_number\"),(\"position\", \"result_position\"), (\"positionText\", \"result_positionText\"))\n",
    "\n",
    "var result_df_copy = result_df_clean\n",
    "for ((oldName, newName) <- columnsToRename4) {\n",
    "  result_df_copy = result_df_copy.withColumnRenamed(oldName, newName)\n",
    "}\n",
    "\n",
    "val columnsToRename5 = List((\"points\", \"driver_standings_points\"), (\"position\", \"driver_standings_position\"), (\"positionText\", \"driver_standings_positionText\"), (\"raceId\", \"driver_standings_raceId\"))\n",
    "\n",
    "var driver_standings_df_copy = driver_standings_df_clean\n",
    "for ((oldName, newName) <- columnsToRename5) {\n",
    "  driver_standings_df_copy = driver_standings_df_copy.withColumnRenamed(oldName, newName)\n",
    "}\n",
    "\n",
    "val columnsToRename6 = List((\"name\", \"circuits_name\"), (\"url\", \"circuits_url\"))\n",
    "\n",
    "var circuits_df_copy = circuits_df_clean\n",
    "for ((oldName, newName) <- columnsToRename6) {\n",
    "  circuits_df_copy = circuits_df_copy.withColumnRenamed(oldName, newName)\n",
    "}\n"
   ]
  },
  {
   "cell_type": "code",
   "execution_count": 52,
   "id": "caa9e862",
   "metadata": {},
   "outputs": [
    {
     "name": "stdout",
     "output_type": "stream",
     "text": [
      "23/04/20 13:14:38 WARN package: Truncated the string representation of a plan since it was too large. This behavior can be adjusted by setting 'spark.sql.debug.maxToStringFields'.\n",
      "+--------+---------+-------------+--------+------+--------+-------------+----+---------------+-------------------+-------------+------+----+-----------+------------+----------+----+--------------+---------------+----+-----+---------------------+----------+-------------------+-------------------------------------------------------+--------+--------+--------+--------+--------+--------+----------+----------+-----------+-----------+---------+------+----+--------+--------+----------+------------------+-------------------------------------------+-----------------+-----------------------+-----------------------+-------------------------+-----------------------------+----+--------------+----------------+-----------+------------------------------------+-----------+------------------------------+---------+---------+--------+-------+---+---------------------------------------------------------+--------+\n",
      "|statusId|circuitId|constructorId|driverId|raceId|resultId|result_number|grid|result_position|result_positionText|positionOrder|points|laps|time       |milliseconds|fastestLap|rank|fastestLapTime|fastestLapSpeed|year|round|race_name            |date      |race_time          |race_url                                               |fp1_date|fp1_time|fp2_date|fp2_time|fp3_date|fp3_time|quali_date|quali_time|sprint_date|sprint_time|driverRef|number|code|forename|surname |dob       |driver_nationality|driver_url                                 |driverStandingsId|driver_standings_raceId|driver_standings_points|driver_standings_position|driver_standings_positionText|wins|constructorRef|constructor_name|nationality|constructor_url                     |circuitRef |circuits_name                 |location |country  |lat     |lng    |alt|circuits_url                                             |status  |\n",
      "+--------+---------+-------------+--------+------+--------+-------------+----+---------------+-------------------+-------------+------+----+-----------+------------+----------+----+--------------+---------------+----+-----+---------------------+----------+-------------------+-------------------------------------------------------+--------+--------+--------+--------+--------+--------+----------+----------+-----------+-----------+---------+------+----+--------+--------+----------+------------------+-------------------------------------------+-----------------+-----------------------+-----------------------+-------------------------+-----------------------------+----+--------------+----------------+-----------+------------------------------------+-----------+------------------------------+---------+---------+--------+-------+---+---------------------------------------------------------+--------+\n",
      "|1       |1        |1            |1       |18    |1       |22           |1   |1              |1                  |1            |10    |58  |1:34:50.616|5690616     |39        |2   |1:27.452      |218.3          |2008|1    |Australian Grand Prix|2008-03-16|1970-01-01 04:30:00|http://en.wikipedia.org/wiki/2008_Australian_Grand_Prix|\\N      |\\N      |\\N      |\\N      |\\N      |\\N      |\\N        |\\N        |\\N         |\\N         |hamilton |44    |HAM |Lewis   |Hamilton|1985-01-07|British           |http://en.wikipedia.org/wiki/Lewis_Hamilton|71830            |1098                   |0                      |5                        |5                            |0   |mclaren       |McLaren         |British    |http://en.wikipedia.org/wiki/McLaren|albert_park|Albert Park Grand Prix Circuit|Melbourne|Australia|-37.8497|144.968|10 |http://en.wikipedia.org/wiki/Melbourne_Grand_Prix_Circuit|Finished|\n",
      "|1       |1        |1            |1       |18    |1       |22           |1   |1              |1                  |1            |10    |58  |1:34:50.616|5690616     |39        |2   |1:27.452      |218.3          |2008|1    |Australian Grand Prix|2008-03-16|1970-01-01 04:30:00|http://en.wikipedia.org/wiki/2008_Australian_Grand_Prix|\\N      |\\N      |\\N      |\\N      |\\N      |\\N      |\\N        |\\N        |\\N         |\\N         |hamilton |44    |HAM |Lewis   |Hamilton|1985-01-07|British           |http://en.wikipedia.org/wiki/Lewis_Hamilton|71806            |1096                   |240                    |6                        |6                            |0   |mclaren       |McLaren         |British    |http://en.wikipedia.org/wiki/McLaren|albert_park|Albert Park Grand Prix Circuit|Melbourne|Australia|-37.8497|144.968|10 |http://en.wikipedia.org/wiki/Melbourne_Grand_Prix_Circuit|Finished|\n",
      "|1       |1        |1            |1       |18    |1       |22           |1   |1              |1                  |1            |10    |58  |1:34:50.616|5690616     |39        |2   |1:27.452      |218.3          |2008|1    |Australian Grand Prix|2008-03-16|1970-01-01 04:30:00|http://en.wikipedia.org/wiki/2008_Australian_Grand_Prix|\\N      |\\N      |\\N      |\\N      |\\N      |\\N      |\\N        |\\N        |\\N         |\\N         |hamilton |44    |HAM |Lewis   |Hamilton|1985-01-07|British           |http://en.wikipedia.org/wiki/Lewis_Hamilton|71784            |1095                   |240                    |5                        |5                            |0   |mclaren       |McLaren         |British    |http://en.wikipedia.org/wiki/McLaren|albert_park|Albert Park Grand Prix Circuit|Melbourne|Australia|-37.8497|144.968|10 |http://en.wikipedia.org/wiki/Melbourne_Grand_Prix_Circuit|Finished|\n",
      "|1       |1        |1            |1       |18    |1       |22           |1   |1              |1                  |1            |10    |58  |1:34:50.616|5690616     |39        |2   |1:27.452      |218.3          |2008|1    |Australian Grand Prix|2008-03-16|1970-01-01 04:30:00|http://en.wikipedia.org/wiki/2008_Australian_Grand_Prix|\\N      |\\N      |\\N      |\\N      |\\N      |\\N      |\\N        |\\N        |\\N         |\\N         |hamilton |44    |HAM |Lewis   |Hamilton|1985-01-07|British           |http://en.wikipedia.org/wiki/Lewis_Hamilton|71762            |1094                   |216                    |5                        |5                            |0   |mclaren       |McLaren         |British    |http://en.wikipedia.org/wiki/McLaren|albert_park|Albert Park Grand Prix Circuit|Melbourne|Australia|-37.8497|144.968|10 |http://en.wikipedia.org/wiki/Melbourne_Grand_Prix_Circuit|Finished|\n",
      "|1       |1        |1            |1       |18    |1       |22           |1   |1              |1                  |1            |10    |58  |1:34:50.616|5690616     |39        |2   |1:27.452      |218.3          |2008|1    |Australian Grand Prix|2008-03-16|1970-01-01 04:30:00|http://en.wikipedia.org/wiki/2008_Australian_Grand_Prix|\\N      |\\N      |\\N      |\\N      |\\N      |\\N      |\\N        |\\N        |\\N         |\\N         |hamilton |44    |HAM |Lewis   |Hamilton|1985-01-07|British           |http://en.wikipedia.org/wiki/Lewis_Hamilton|71740            |1093                   |198                    |6                        |6                            |0   |mclaren       |McLaren         |British    |http://en.wikipedia.org/wiki/McLaren|albert_park|Albert Park Grand Prix Circuit|Melbourne|Australia|-37.8497|144.968|10 |http://en.wikipedia.org/wiki/Melbourne_Grand_Prix_Circuit|Finished|\n",
      "+--------+---------+-------------+--------+------+--------+-------------+----+---------------+-------------------+-------------+------+----+-----------+------------+----------+----+--------------+---------------+----+-----+---------------------+----------+-------------------+-------------------------------------------------------+--------+--------+--------+--------+--------+--------+----------+----------+-----------+-----------+---------+------+----+--------+--------+----------+------------------+-------------------------------------------+-----------------+-----------------------+-----------------------+-------------------------+-----------------------------+----+--------------+----------------+-----------+------------------------------------+-----------+------------------------------+---------+---------+--------+-------+---+---------------------------------------------------------+--------+\n",
      "only showing top 5 rows\n",
      "\n"
     ]
    },
    {
     "data": {
      "text/plain": [
       "con1: org.apache.spark.sql.DataFrame = [raceId: int, resultId: int ... 33 more fields]\n",
       "con2: org.apache.spark.sql.DataFrame = [driverId: int, raceId: int ... 41 more fields]\n",
       "con3: org.apache.spark.sql.DataFrame = [driverId: int, raceId: int ... 47 more fields]\n",
       "con4: org.apache.spark.sql.DataFrame = [constructorId: int, driverId: int ... 51 more fields]\n",
       "con5: org.apache.spark.sql.DataFrame = [circuitId: int, constructorId: int ... 59 more fields]\n",
       "df: org.apache.spark.sql.DataFrame = [statusId: int, circuitId: int ... 60 more fields]\n"
      ]
     },
     "execution_count": 52,
     "metadata": {},
     "output_type": "execute_result"
    }
   ],
   "source": [
    "val con1 = result_df_copy.join(races_df_copy, Seq(\"raceId\"), \"inner\")\n",
    "val con2 = con1.join(drivers_df_copy, Seq(\"driverId\"), \"inner\")\n",
    "val con3 = con2.join(driver_standings_df_copy, Seq(\"driverId\"), \"inner\")\n",
    "val con4 = con3.join(constructor_df_copy, Seq(\"constructorId\"), \"inner\")\n",
    "val con5 = con4.join(circuits_df_copy, Seq(\"circuitId\"), \"inner\")\n",
    "val df = con5.join(stats_df, Seq(\"statusId\"), \"inner\")\n",
    "// con2 = pd.merge(con1, drivers_df, on = 'driverId')\n",
    "// con3 = pd.merge(con2, driver_standings_df, on = 'driverId')\n",
    "// con4 = pd.merge(con3, constructor_df, on ='constructorId')\n",
    "// df = pd.merge(con4, stats_df, on ='statusId')\n",
    "df.show(5,false)"
   ]
  },
  {
   "cell_type": "code",
   "execution_count": 53,
   "id": "8b07cd03",
   "metadata": {},
   "outputs": [
    {
     "name": "stdout",
     "output_type": "stream",
     "text": [
      "root\n",
      " |-- statusId: integer (nullable = true)\n",
      " |-- circuitId: integer (nullable = true)\n",
      " |-- constructorId: integer (nullable = true)\n",
      " |-- driverId: integer (nullable = true)\n",
      " |-- raceId: integer (nullable = true)\n",
      " |-- resultId: integer (nullable = true)\n",
      " |-- result_number: integer (nullable = true)\n",
      " |-- grid: integer (nullable = true)\n",
      " |-- result_position: integer (nullable = true)\n",
      " |-- result_positionText: integer (nullable = true)\n",
      " |-- positionOrder: integer (nullable = true)\n",
      " |-- points: integer (nullable = true)\n",
      " |-- laps: integer (nullable = true)\n",
      " |-- time: string (nullable = true)\n",
      " |-- milliseconds: integer (nullable = true)\n",
      " |-- fastestLap: integer (nullable = true)\n",
      " |-- rank: integer (nullable = true)\n",
      " |-- fastestLapTime: string (nullable = true)\n",
      " |-- fastestLapSpeed: double (nullable = true)\n",
      " |-- year: integer (nullable = true)\n",
      " |-- round: integer (nullable = true)\n",
      " |-- race_name: string (nullable = true)\n",
      " |-- date: date (nullable = true)\n",
      " |-- race_time: timestamp (nullable = true)\n",
      " |-- race_url: string (nullable = true)\n",
      " |-- fp1_date: string (nullable = true)\n",
      " |-- fp1_time: string (nullable = true)\n",
      " |-- fp2_date: string (nullable = true)\n",
      " |-- fp2_time: string (nullable = true)\n",
      " |-- fp3_date: string (nullable = true)\n",
      " |-- fp3_time: string (nullable = true)\n",
      " |-- quali_date: string (nullable = true)\n",
      " |-- quali_time: string (nullable = true)\n",
      " |-- sprint_date: string (nullable = true)\n",
      " |-- sprint_time: string (nullable = true)\n",
      " |-- driverRef: string (nullable = true)\n",
      " |-- number: integer (nullable = true)\n",
      " |-- code: string (nullable = true)\n",
      " |-- forename: string (nullable = true)\n",
      " |-- surname: string (nullable = true)\n",
      " |-- dob: date (nullable = true)\n",
      " |-- driver_nationality: string (nullable = true)\n",
      " |-- driver_url: string (nullable = true)\n",
      " |-- driverStandingsId: integer (nullable = true)\n",
      " |-- driver_standings_raceId: integer (nullable = true)\n",
      " |-- driver_standings_points: integer (nullable = true)\n",
      " |-- driver_standings_position: integer (nullable = true)\n",
      " |-- driver_standings_positionText: integer (nullable = true)\n",
      " |-- wins: integer (nullable = true)\n",
      " |-- constructorRef: string (nullable = true)\n",
      " |-- constructor_name: string (nullable = true)\n",
      " |-- nationality: string (nullable = true)\n",
      " |-- constructor_url: string (nullable = true)\n",
      " |-- circuitRef: string (nullable = true)\n",
      " |-- circuits_name: string (nullable = true)\n",
      " |-- location: string (nullable = true)\n",
      " |-- country: string (nullable = true)\n",
      " |-- lat: double (nullable = true)\n",
      " |-- lng: double (nullable = true)\n",
      " |-- alt: integer (nullable = true)\n",
      " |-- circuits_url: string (nullable = true)\n",
      " |-- status: string (nullable = true)\n",
      "\n"
     ]
    }
   ],
   "source": [
    "df.printSchema()"
   ]
  },
  {
   "cell_type": "code",
   "execution_count": null,
   "id": "6e6a3a00",
   "metadata": {},
   "outputs": [],
   "source": [
    "import org.apache.spark.sql.{DataFrame, SparkSession}\n",
    "// Define the output directory\n",
    "val outputDir = \"/Users/anirudhajoshi/Documents/NEU_Work/NEU_Spring2023_Work/Big_Data_Scala/Final_Project/cleaned_data\"\n",
    "\n",
    "// Define a function to save a dataframe to CSV\n",
    "def saveToCSV(df: DataFrame, filename: String): Unit = {\n",
    "    df.coalesce(1).write.format(\"csv\")\n",
    "  //df.write.format(\"csv\")\n",
    "    .option(\"header\", \"true\")\n",
    "    .mode(\"overwrite\")\n",
    "    .save(outputDir + \"/\" + filename)\n",
    "}\n",
    "\n",
    "// Save the dataframes to CSV\n",
    "saveToCSV(result_df_clean, \"result.csv\")\n",
    "saveToCSV(races_df_clean, \"races.csv\")\n",
    "saveToCSV(drivers_df_clean, \"drivers.csv\")\n",
    "saveToCSV(driver_standings_df_clean, \"driver_standings.csv\")\n",
    "saveToCSV(constructor_df_clean, \"constructor.csv\")\n",
    "saveToCSV(stats_df, \"stats.csv\")\n",
    "saveToCSV(circuits_df_clean, \"circuits.csv\")\n",
    "saveToCSV(laptimes_df_clean, \"laptimes.csv\")\n",
    "saveToCSV(pitstops_df_clean, \"pitstops_df.csv\")\n",
    "saveToCSV(seasons_df, \"seasons.csv\")\n",
    "saveToCSV(df, \"all.csv\")\n",
    "\n"
   ]
  },
  {
   "cell_type": "code",
   "execution_count": null,
   "id": "6b0173f7",
   "metadata": {},
   "outputs": [],
   "source": []
  }
 ],
 "metadata": {
  "kernelspec": {
   "display_name": "spylon-kernel",
   "language": "scala",
   "name": "spylon-kernel"
  },
  "language_info": {
   "codemirror_mode": "text/x-scala",
   "file_extension": ".scala",
   "help_links": [
    {
     "text": "MetaKernel Magics",
     "url": "https://metakernel.readthedocs.io/en/latest/source/README.html"
    }
   ],
   "mimetype": "text/x-scala",
   "name": "scala",
   "pygments_lexer": "scala",
   "version": "0.4.1"
  }
 },
 "nbformat": 4,
 "nbformat_minor": 5
}

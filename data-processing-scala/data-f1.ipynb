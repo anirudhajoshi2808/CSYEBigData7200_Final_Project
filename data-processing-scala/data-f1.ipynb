{
 "cells": [
  {
   "cell_type": "code",
   "execution_count": 1,
   "id": "33f53537",
   "metadata": {},
   "outputs": [
    {
     "data": {
      "text/plain": [
       "Intitializing Scala interpreter ..."
      ]
     },
     "metadata": {},
     "output_type": "display_data"
    },
    {
     "data": {
      "text/plain": [
       "Spark Web UI available at http://10.110.86.43:4040\n",
       "SparkContext available as 'sc' (version = 3.3.2, master = local[*], app id = local-1680303585504)\n",
       "SparkSession available as 'spark'\n"
      ]
     },
     "metadata": {},
     "output_type": "display_data"
    },
    {
     "name": "stdout",
     "output_type": "stream",
     "text": [
      "23/03/31 18:59:48 WARN SparkSession: Using an existing Spark session; only runtime SQL configurations will take effect.\n"
     ]
    },
    {
     "data": {
      "text/plain": [
       "import org.apache.spark.sql.SparkSession\n",
       "spark: org.apache.spark.sql.SparkSession = org.apache.spark.sql.SparkSession@5f30e7a1\n"
      ]
     },
     "execution_count": 1,
     "metadata": {},
     "output_type": "execute_result"
    }
   ],
   "source": [
    "import org.apache.spark.sql.SparkSession\n",
    "\n",
    "val spark = SparkSession\n",
    "  .builder()\n",
    "  .appName(\"f1-project\")\n",
    "  .getOrCreate()"
   ]
  },
  {
   "cell_type": "code",
   "execution_count": 2,
   "id": "c4c38284",
   "metadata": {},
   "outputs": [
    {
     "data": {
      "text/plain": [
       "sc: org.apache.spark.SparkContext = org.apache.spark.SparkContext@46e24902\n"
      ]
     },
     "execution_count": 2,
     "metadata": {},
     "output_type": "execute_result"
    }
   ],
   "source": [
    "val sc = spark.sparkContext"
   ]
  },
  {
   "cell_type": "code",
   "execution_count": 3,
   "id": "34f70b79",
   "metadata": {},
   "outputs": [
    {
     "data": {
      "text/plain": [
       "result_df: org.apache.spark.sql.DataFrame = [resultId: string, raceId: string ... 16 more fields]\n",
       "stats_df: org.apache.spark.sql.DataFrame = [statusId: string, status: string]\n",
       "drivers_df: org.apache.spark.sql.DataFrame = [driverId: string, driverRef: string ... 7 more fields]\n",
       "races_df: org.apache.spark.sql.DataFrame = [raceId: string, year: string ... 16 more fields]\n",
       "constructor_df: org.apache.spark.sql.DataFrame = [constructorId: string, constructorRef: string ... 3 more fields]\n",
       "driver_standings_df: org.apache.spark.sql.DataFrame = [driverStandingsId: string, raceId: string ... 5 more fields]\n"
      ]
     },
     "execution_count": 3,
     "metadata": {},
     "output_type": "execute_result"
    }
   ],
   "source": [
    "val result_df = spark.read.option(\"header\", \"true\").csv(\"data/results.csv\")\n",
    "val stats_df = spark.read.option(\"header\", \"true\").csv(\"data/status.csv\")\n",
    "val drivers_df = spark.read.option(\"header\", \"true\").csv(\"data/drivers.csv\")\n",
    "val races_df = spark.read.option(\"header\", \"true\").csv(\"data/races.csv\")\n",
    "val constructor_df = spark.read.option(\"header\", \"true\").csv(\"data/constructors.csv\")\n",
    "val driver_standings_df = spark.read.option(\"header\", \"true\").csv(\"data/driver_standings.csv\")\n",
    "\n"
   ]
  },
  {
   "cell_type": "code",
   "execution_count": 4,
   "id": "b418ebc7",
   "metadata": {
    "scrolled": true
   },
   "outputs": [
    {
     "name": "stdout",
     "output_type": "stream",
     "text": [
      "+--------+------+--------+-------------+------+----+--------+------------+-------------+------+----+-----------+------------+----------+----+--------------+---------------+--------+\n",
      "|resultId|raceId|driverId|constructorId|number|grid|position|positionText|positionOrder|points|laps|time       |milliseconds|fastestLap|rank|fastestLapTime|fastestLapSpeed|statusId|\n",
      "+--------+------+--------+-------------+------+----+--------+------------+-------------+------+----+-----------+------------+----------+----+--------------+---------------+--------+\n",
      "|1       |18    |1       |1            |22    |1   |1       |1           |1            |10    |58  |1:34:50.616|5690616     |39        |2   |1:27.452      |218.300        |1       |\n",
      "|2       |18    |2       |2            |3     |5   |2       |2           |2            |8     |58  |+5.478     |5696094     |41        |3   |1:27.739      |217.586        |1       |\n",
      "|3       |18    |3       |3            |7     |7   |3       |3           |3            |6     |58  |+8.163     |5698779     |41        |5   |1:28.090      |216.719        |1       |\n",
      "|4       |18    |4       |4            |5     |11  |4       |4           |4            |5     |58  |+17.181    |5707797     |58        |7   |1:28.603      |215.464        |1       |\n",
      "|5       |18    |5       |1            |23    |3   |5       |5           |5            |4     |58  |+18.014    |5708630     |43        |1   |1:27.418      |218.385        |1       |\n",
      "+--------+------+--------+-------------+------+----+--------+------------+-------------+------+----+-----------+------------+----------+----+--------------+---------------+--------+\n",
      "only showing top 5 rows\n",
      "\n"
     ]
    }
   ],
   "source": [
    "result_df.show(5,false) "
   ]
  },
  {
   "cell_type": "code",
   "execution_count": 5,
   "id": "d9d8fb63",
   "metadata": {},
   "outputs": [
    {
     "name": "stdout",
     "output_type": "stream",
     "text": [
      "+--------+------------+\n",
      "|statusId|status      |\n",
      "+--------+------------+\n",
      "|1       |Finished    |\n",
      "|2       |Disqualified|\n",
      "|3       |Accident    |\n",
      "|4       |Collision   |\n",
      "|5       |Engine      |\n",
      "+--------+------------+\n",
      "only showing top 5 rows\n",
      "\n"
     ]
    }
   ],
   "source": [
    "stats_df.show(5,false) "
   ]
  },
  {
   "cell_type": "code",
   "execution_count": 6,
   "id": "5e69e2d6",
   "metadata": {},
   "outputs": [
    {
     "name": "stdout",
     "output_type": "stream",
     "text": [
      "+--------+----------+------+----+--------+----------+----------+-----------+----------------------------------------------+\n",
      "|driverId|driverRef |number|code|forename|surname   |dob       |nationality|url                                           |\n",
      "+--------+----------+------+----+--------+----------+----------+-----------+----------------------------------------------+\n",
      "|1       |hamilton  |44    |HAM |Lewis   |Hamilton  |1985-01-07|British    |http://en.wikipedia.org/wiki/Lewis_Hamilton   |\n",
      "|2       |heidfeld  |\\N    |HEI |Nick    |Heidfeld  |1977-05-10|German     |http://en.wikipedia.org/wiki/Nick_Heidfeld    |\n",
      "|3       |rosberg   |6     |ROS |Nico    |Rosberg   |1985-06-27|German     |http://en.wikipedia.org/wiki/Nico_Rosberg     |\n",
      "|4       |alonso    |14    |ALO |Fernando|Alonso    |1981-07-29|Spanish    |http://en.wikipedia.org/wiki/Fernando_Alonso  |\n",
      "|5       |kovalainen|\\N    |KOV |Heikki  |Kovalainen|1981-10-19|Finnish    |http://en.wikipedia.org/wiki/Heikki_Kovalainen|\n",
      "+--------+----------+------+----+--------+----------+----------+-----------+----------------------------------------------+\n",
      "only showing top 5 rows\n",
      "\n"
     ]
    }
   ],
   "source": [
    "drivers_df.show(5,false)"
   ]
  },
  {
   "cell_type": "code",
   "execution_count": 7,
   "id": "f831ea17",
   "metadata": {},
   "outputs": [
    {
     "name": "stdout",
     "output_type": "stream",
     "text": [
      "+------+----+-----+---------+---------------------+----------+--------+-------------------------------------------------------+--------+--------+--------+--------+--------+--------+----------+----------+-----------+-----------+\n",
      "|raceId|year|round|circuitId|name                 |date      |time    |url                                                    |fp1_date|fp1_time|fp2_date|fp2_time|fp3_date|fp3_time|quali_date|quali_time|sprint_date|sprint_time|\n",
      "+------+----+-----+---------+---------------------+----------+--------+-------------------------------------------------------+--------+--------+--------+--------+--------+--------+----------+----------+-----------+-----------+\n",
      "|1     |2009|1    |1        |Australian Grand Prix|2009-03-29|06:00:00|http://en.wikipedia.org/wiki/2009_Australian_Grand_Prix|\\N      |\\N      |\\N      |\\N      |\\N      |\\N      |\\N        |\\N        |\\N         |\\N         |\n",
      "|2     |2009|2    |2        |Malaysian Grand Prix |2009-04-05|09:00:00|http://en.wikipedia.org/wiki/2009_Malaysian_Grand_Prix |\\N      |\\N      |\\N      |\\N      |\\N      |\\N      |\\N        |\\N        |\\N         |\\N         |\n",
      "|3     |2009|3    |17       |Chinese Grand Prix   |2009-04-19|07:00:00|http://en.wikipedia.org/wiki/2009_Chinese_Grand_Prix   |\\N      |\\N      |\\N      |\\N      |\\N      |\\N      |\\N        |\\N        |\\N         |\\N         |\n",
      "|4     |2009|4    |3        |Bahrain Grand Prix   |2009-04-26|12:00:00|http://en.wikipedia.org/wiki/2009_Bahrain_Grand_Prix   |\\N      |\\N      |\\N      |\\N      |\\N      |\\N      |\\N        |\\N        |\\N         |\\N         |\n",
      "|5     |2009|5    |4        |Spanish Grand Prix   |2009-05-10|12:00:00|http://en.wikipedia.org/wiki/2009_Spanish_Grand_Prix   |\\N      |\\N      |\\N      |\\N      |\\N      |\\N      |\\N        |\\N        |\\N         |\\N         |\n",
      "+------+----+-----+---------+---------------------+----------+--------+-------------------------------------------------------+--------+--------+--------+--------+--------+--------+----------+----------+-----------+-----------+\n",
      "only showing top 5 rows\n",
      "\n"
     ]
    }
   ],
   "source": [
    "races_df.show(5,false)"
   ]
  },
  {
   "cell_type": "code",
   "execution_count": 8,
   "id": "4e6d237f",
   "metadata": {},
   "outputs": [
    {
     "name": "stdout",
     "output_type": "stream",
     "text": [
      "+-------------+--------------+----------+-----------+------------------------------------------------------------+\n",
      "|constructorId|constructorRef|name      |nationality|url                                                         |\n",
      "+-------------+--------------+----------+-----------+------------------------------------------------------------+\n",
      "|1            |mclaren       |McLaren   |British    |http://en.wikipedia.org/wiki/McLaren                        |\n",
      "|2            |bmw_sauber    |BMW Sauber|German     |http://en.wikipedia.org/wiki/BMW_Sauber                     |\n",
      "|3            |williams      |Williams  |British    |http://en.wikipedia.org/wiki/Williams_Grand_Prix_Engineering|\n",
      "|4            |renault       |Renault   |French     |http://en.wikipedia.org/wiki/Renault_in_Formula_One         |\n",
      "|5            |toro_rosso    |Toro Rosso|Italian    |http://en.wikipedia.org/wiki/Scuderia_Toro_Rosso            |\n",
      "+-------------+--------------+----------+-----------+------------------------------------------------------------+\n",
      "only showing top 5 rows\n",
      "\n"
     ]
    }
   ],
   "source": [
    "constructor_df.show(5,false)"
   ]
  },
  {
   "cell_type": "code",
   "execution_count": 9,
   "id": "8f50c1ea",
   "metadata": {},
   "outputs": [
    {
     "name": "stdout",
     "output_type": "stream",
     "text": [
      "+-----------------+------+--------+------+--------+------------+----+\n",
      "|driverStandingsId|raceId|driverId|points|position|positionText|wins|\n",
      "+-----------------+------+--------+------+--------+------------+----+\n",
      "|1                |18    |1       |10    |1       |1           |1   |\n",
      "|2                |18    |2       |8     |2       |2           |0   |\n",
      "|3                |18    |3       |6     |3       |3           |0   |\n",
      "|4                |18    |4       |5     |4       |4           |0   |\n",
      "|5                |18    |5       |4     |5       |5           |0   |\n",
      "+-----------------+------+--------+------+--------+------------+----+\n",
      "only showing top 5 rows\n",
      "\n"
     ]
    }
   ],
   "source": [
    "driver_standings_df.show(5,false)"
   ]
  },
  {
   "cell_type": "markdown",
   "id": "0330a48d",
   "metadata": {},
   "source": [
    "### Feature Engineering"
   ]
  },
  {
   "cell_type": "code",
   "execution_count": 10,
   "id": "88051b51",
   "metadata": {},
   "outputs": [
    {
     "data": {
      "text/plain": [
       "import org.apache.spark.sql.functions.col\n"
      ]
     },
     "execution_count": 10,
     "metadata": {},
     "output_type": "execute_result"
    }
   ],
   "source": [
    "import org.apache.spark.sql.functions.col"
   ]
  },
  {
   "cell_type": "code",
   "execution_count": 11,
   "id": "a6c01dd2",
   "metadata": {},
   "outputs": [
    {
     "name": "stdout",
     "output_type": "stream",
     "text": [
      "+------+\n",
      "|raceId|\n",
      "+------+\n",
      "|1     |\n",
      "|2     |\n",
      "|3     |\n",
      "|4     |\n",
      "|5     |\n",
      "+------+\n",
      "only showing top 5 rows\n",
      "\n"
     ]
    }
   ],
   "source": [
    "\n",
    "races_df.select(col(\"raceId\")).show(5,false)"
   ]
  },
  {
   "cell_type": "code",
   "execution_count": 12,
   "id": "bd0aecf4",
   "metadata": {},
   "outputs": [
    {
     "name": "stdout",
     "output_type": "stream",
     "text": [
      "root\n",
      " |-- raceId: string (nullable = true)\n",
      " |-- year: string (nullable = true)\n",
      " |-- round: string (nullable = true)\n",
      " |-- circuitId: string (nullable = true)\n",
      " |-- name: string (nullable = true)\n",
      " |-- date: string (nullable = true)\n",
      " |-- time: string (nullable = true)\n",
      " |-- url: string (nullable = true)\n",
      " |-- fp1_date: string (nullable = true)\n",
      " |-- fp1_time: string (nullable = true)\n",
      " |-- fp2_date: string (nullable = true)\n",
      " |-- fp2_time: string (nullable = true)\n",
      " |-- fp3_date: string (nullable = true)\n",
      " |-- fp3_time: string (nullable = true)\n",
      " |-- quali_date: string (nullable = true)\n",
      " |-- quali_time: string (nullable = true)\n",
      " |-- sprint_date: string (nullable = true)\n",
      " |-- sprint_time: string (nullable = true)\n",
      "\n"
     ]
    }
   ],
   "source": [
    "races_df.printSchema()"
   ]
  },
  {
   "cell_type": "code",
   "execution_count": 13,
   "id": "a306178c",
   "metadata": {},
   "outputs": [
    {
     "data": {
      "text/plain": [
       "races_df_clean: org.apache.spark.sql.DataFrame = [raceId: int, year: int ... 16 more fields]\n"
      ]
     },
     "execution_count": 13,
     "metadata": {},
     "output_type": "execute_result"
    }
   ],
   "source": [
    "val races_df_clean = races_df\n",
    "  .withColumn(\"raceId\", col(\"raceId\").cast(\"Integer\"))\n",
    "  .withColumn(\"year\", col(\"year\").cast(\"Integer\"))\n",
    "  .withColumn(\"round\", col(\"round\").cast(\"Integer\"))\n",
    "  .withColumn(\"circuitId\", col(\"circuitId\").cast(\"Integer\"))\n",
    "  .withColumn(\"date\", to_date(col(\"date\"), \"yyyy-MM-dd\"))\n",
    "  .withColumn(\"time\", to_timestamp(col(\"time\"), \"HH:mm:ss\"))\n",
    "  //.withColumn(\"PassengerId\", col(\"PassengerId\").cast(\"Integer\"))"
   ]
  },
  {
   "cell_type": "code",
   "execution_count": 14,
   "id": "383e3fa3",
   "metadata": {},
   "outputs": [
    {
     "name": "stdout",
     "output_type": "stream",
     "text": [
      "+------+----+-----+---------+---------------------+----------+-------------------+-------------------------------------------------------+--------+--------+--------+--------+--------+--------+----------+----------+-----------+-----------+\n",
      "|raceId|year|round|circuitId|name                 |date      |time               |url                                                    |fp1_date|fp1_time|fp2_date|fp2_time|fp3_date|fp3_time|quali_date|quali_time|sprint_date|sprint_time|\n",
      "+------+----+-----+---------+---------------------+----------+-------------------+-------------------------------------------------------+--------+--------+--------+--------+--------+--------+----------+----------+-----------+-----------+\n",
      "|1     |2009|1    |1        |Australian Grand Prix|2009-03-29|1970-01-01 06:00:00|http://en.wikipedia.org/wiki/2009_Australian_Grand_Prix|\\N      |\\N      |\\N      |\\N      |\\N      |\\N      |\\N        |\\N        |\\N         |\\N         |\n",
      "|2     |2009|2    |2        |Malaysian Grand Prix |2009-04-05|1970-01-01 09:00:00|http://en.wikipedia.org/wiki/2009_Malaysian_Grand_Prix |\\N      |\\N      |\\N      |\\N      |\\N      |\\N      |\\N        |\\N        |\\N         |\\N         |\n",
      "|3     |2009|3    |17       |Chinese Grand Prix   |2009-04-19|1970-01-01 07:00:00|http://en.wikipedia.org/wiki/2009_Chinese_Grand_Prix   |\\N      |\\N      |\\N      |\\N      |\\N      |\\N      |\\N        |\\N        |\\N         |\\N         |\n",
      "|4     |2009|4    |3        |Bahrain Grand Prix   |2009-04-26|1970-01-01 12:00:00|http://en.wikipedia.org/wiki/2009_Bahrain_Grand_Prix   |\\N      |\\N      |\\N      |\\N      |\\N      |\\N      |\\N        |\\N        |\\N         |\\N         |\n",
      "|5     |2009|5    |4        |Spanish Grand Prix   |2009-05-10|1970-01-01 12:00:00|http://en.wikipedia.org/wiki/2009_Spanish_Grand_Prix   |\\N      |\\N      |\\N      |\\N      |\\N      |\\N      |\\N        |\\N        |\\N         |\\N         |\n",
      "+------+----+-----+---------+---------------------+----------+-------------------+-------------------------------------------------------+--------+--------+--------+--------+--------+--------+----------+----------+-----------+-----------+\n",
      "only showing top 5 rows\n",
      "\n"
     ]
    }
   ],
   "source": [
    "races_df_clean.show(5,false)"
   ]
  },
  {
   "cell_type": "code",
   "execution_count": 15,
   "id": "6db4b18b",
   "metadata": {},
   "outputs": [
    {
     "name": "stdout",
     "output_type": "stream",
     "text": [
      "root\n",
      " |-- raceId: integer (nullable = true)\n",
      " |-- year: integer (nullable = true)\n",
      " |-- round: integer (nullable = true)\n",
      " |-- circuitId: integer (nullable = true)\n",
      " |-- name: string (nullable = true)\n",
      " |-- date: date (nullable = true)\n",
      " |-- time: timestamp (nullable = true)\n",
      " |-- url: string (nullable = true)\n",
      " |-- fp1_date: string (nullable = true)\n",
      " |-- fp1_time: string (nullable = true)\n",
      " |-- fp2_date: string (nullable = true)\n",
      " |-- fp2_time: string (nullable = true)\n",
      " |-- fp3_date: string (nullable = true)\n",
      " |-- fp3_time: string (nullable = true)\n",
      " |-- quali_date: string (nullable = true)\n",
      " |-- quali_time: string (nullable = true)\n",
      " |-- sprint_date: string (nullable = true)\n",
      " |-- sprint_time: string (nullable = true)\n",
      "\n"
     ]
    }
   ],
   "source": [
    "races_df_clean.printSchema()"
   ]
  },
  {
   "cell_type": "code",
   "execution_count": 16,
   "id": "935166f4",
   "metadata": {},
   "outputs": [
    {
     "name": "stdout",
     "output_type": "stream",
     "text": [
      "root\n",
      " |-- resultId: string (nullable = true)\n",
      " |-- raceId: string (nullable = true)\n",
      " |-- driverId: string (nullable = true)\n",
      " |-- constructorId: string (nullable = true)\n",
      " |-- number: string (nullable = true)\n",
      " |-- grid: string (nullable = true)\n",
      " |-- position: string (nullable = true)\n",
      " |-- positionText: string (nullable = true)\n",
      " |-- positionOrder: string (nullable = true)\n",
      " |-- points: string (nullable = true)\n",
      " |-- laps: string (nullable = true)\n",
      " |-- time: string (nullable = true)\n",
      " |-- milliseconds: string (nullable = true)\n",
      " |-- fastestLap: string (nullable = true)\n",
      " |-- rank: string (nullable = true)\n",
      " |-- fastestLapTime: string (nullable = true)\n",
      " |-- fastestLapSpeed: string (nullable = true)\n",
      " |-- statusId: string (nullable = true)\n",
      "\n"
     ]
    }
   ],
   "source": [
    "result_df.printSchema()"
   ]
  },
  {
   "cell_type": "code",
   "execution_count": 17,
   "id": "b514b1ec",
   "metadata": {},
   "outputs": [
    {
     "name": "stdout",
     "output_type": "stream",
     "text": [
      "+--------+------+--------+-------------+------+----+--------+------------+-------------+------+----+-----------+------------+----------+----+--------------+---------------+--------+\n",
      "|resultId|raceId|driverId|constructorId|number|grid|position|positionText|positionOrder|points|laps|time       |milliseconds|fastestLap|rank|fastestLapTime|fastestLapSpeed|statusId|\n",
      "+--------+------+--------+-------------+------+----+--------+------------+-------------+------+----+-----------+------------+----------+----+--------------+---------------+--------+\n",
      "|1       |18    |1       |1            |22    |1   |1       |1           |1            |10    |58  |1:34:50.616|5690616     |39        |2   |1:27.452      |218.300        |1       |\n",
      "|2       |18    |2       |2            |3     |5   |2       |2           |2            |8     |58  |+5.478     |5696094     |41        |3   |1:27.739      |217.586        |1       |\n",
      "|3       |18    |3       |3            |7     |7   |3       |3           |3            |6     |58  |+8.163     |5698779     |41        |5   |1:28.090      |216.719        |1       |\n",
      "|4       |18    |4       |4            |5     |11  |4       |4           |4            |5     |58  |+17.181    |5707797     |58        |7   |1:28.603      |215.464        |1       |\n",
      "|5       |18    |5       |1            |23    |3   |5       |5           |5            |4     |58  |+18.014    |5708630     |43        |1   |1:27.418      |218.385        |1       |\n",
      "+--------+------+--------+-------------+------+----+--------+------------+-------------+------+----+-----------+------------+----------+----+--------------+---------------+--------+\n",
      "only showing top 5 rows\n",
      "\n"
     ]
    }
   ],
   "source": [
    "result_df.show(5,false) "
   ]
  },
  {
   "cell_type": "code",
   "execution_count": 22,
   "id": "4bae3812",
   "metadata": {},
   "outputs": [
    {
     "data": {
      "text/plain": [
       "result_df_clean: org.apache.spark.sql.DataFrame = [resultId: int, raceId: int ... 16 more fields]\n"
      ]
     },
     "execution_count": 22,
     "metadata": {},
     "output_type": "execute_result"
    }
   ],
   "source": [
    "val result_df_clean = result_df\n",
    "  .withColumn(\"resultId\", col(\"resultId\").cast(\"Integer\"))\n",
    "  .withColumn(\"raceId\", col(\"raceId\").cast(\"Integer\"))\n",
    "  .withColumn(\"driverId\", col(\"driverId\").cast(\"Integer\"))\n",
    "  .withColumn(\"constructorId\", col(\"constructorId\").cast(\"Integer\"))\n",
    "  .withColumn(\"number\", col(\"number\").cast(\"Integer\"))\n",
    "  .withColumn(\"grid\", col(\"grid\").cast(\"Integer\"))\n",
    "  .withColumn(\"position\", col(\"position\").cast(\"Integer\"))\n",
    "  .withColumn(\"positionText\", col(\"positionText\").cast(\"Integer\"))\n",
    "  .withColumn(\"positionOrder\", col(\"positionOrder\").cast(\"Integer\"))\n",
    "  .withColumn(\"points\", col(\"points\").cast(\"Integer\"))\n",
    "  .withColumn(\"laps\", col(\"laps\").cast(\"Integer\"))\n",
    "  .withColumn(\"milliseconds\", col(\"milliseconds\").cast(\"Integer\"))\n",
    "  .withColumn(\"fastestLap\", col(\"fastestLap\").cast(\"Integer\"))\n",
    "  .withColumn(\"rank\", col(\"rank\").cast(\"Integer\"))\n",
    "  .withColumn(\"statusId\", col(\"statusId\").cast(\"Integer\"))\n",
    "  .withColumn(\"fastestLapSpeed\", col(\"fastestLapSpeed\").cast(\"Double\"))\n",
    "  //.withColumn(\"date\", to_date(col(\"date\"), \"yyyy-MM-dd\"))\n",
    "  //.withColumn(\"fastestLapTime\", to_timestamp(col(\"fastestLapTime\"), \"HH:mm.sss\"))"
   ]
  },
  {
   "cell_type": "code",
   "execution_count": 23,
   "id": "3726984f",
   "metadata": {},
   "outputs": [
    {
     "name": "stdout",
     "output_type": "stream",
     "text": [
      "+--------+------+--------+-------------+------+----+--------+------------+-------------+------+----+-----------+------------+----------+----+--------------+---------------+--------+\n",
      "|resultId|raceId|driverId|constructorId|number|grid|position|positionText|positionOrder|points|laps|time       |milliseconds|fastestLap|rank|fastestLapTime|fastestLapSpeed|statusId|\n",
      "+--------+------+--------+-------------+------+----+--------+------------+-------------+------+----+-----------+------------+----------+----+--------------+---------------+--------+\n",
      "|1       |18    |1       |1            |22    |1   |1       |1           |1            |10    |58  |1:34:50.616|5690616     |39        |2   |1:27.452      |218.3          |1       |\n",
      "|2       |18    |2       |2            |3     |5   |2       |2           |2            |8     |58  |+5.478     |5696094     |41        |3   |1:27.739      |217.586        |1       |\n",
      "|3       |18    |3       |3            |7     |7   |3       |3           |3            |6     |58  |+8.163     |5698779     |41        |5   |1:28.090      |216.719        |1       |\n",
      "|4       |18    |4       |4            |5     |11  |4       |4           |4            |5     |58  |+17.181    |5707797     |58        |7   |1:28.603      |215.464        |1       |\n",
      "|5       |18    |5       |1            |23    |3   |5       |5           |5            |4     |58  |+18.014    |5708630     |43        |1   |1:27.418      |218.385        |1       |\n",
      "+--------+------+--------+-------------+------+----+--------+------------+-------------+------+----+-----------+------------+----------+----+--------------+---------------+--------+\n",
      "only showing top 5 rows\n",
      "\n"
     ]
    }
   ],
   "source": [
    "result_df_clean.show(5,false)"
   ]
  },
  {
   "cell_type": "code",
   "execution_count": 25,
   "id": "1f5d4935",
   "metadata": {},
   "outputs": [
    {
     "name": "stdout",
     "output_type": "stream",
     "text": [
      "root\n",
      " |-- resultId: integer (nullable = true)\n",
      " |-- raceId: integer (nullable = true)\n",
      " |-- driverId: integer (nullable = true)\n",
      " |-- constructorId: integer (nullable = true)\n",
      " |-- number: integer (nullable = true)\n",
      " |-- grid: integer (nullable = true)\n",
      " |-- position: integer (nullable = true)\n",
      " |-- positionText: integer (nullable = true)\n",
      " |-- positionOrder: integer (nullable = true)\n",
      " |-- points: integer (nullable = true)\n",
      " |-- laps: integer (nullable = true)\n",
      " |-- time: string (nullable = true)\n",
      " |-- milliseconds: integer (nullable = true)\n",
      " |-- fastestLap: integer (nullable = true)\n",
      " |-- rank: integer (nullable = true)\n",
      " |-- fastestLapTime: string (nullable = true)\n",
      " |-- fastestLapSpeed: double (nullable = true)\n",
      " |-- statusId: integer (nullable = true)\n",
      "\n"
     ]
    }
   ],
   "source": [
    "result_df_clean.printSchema()"
   ]
  },
  {
   "cell_type": "code",
   "execution_count": 26,
   "id": "1bfc30b7",
   "metadata": {},
   "outputs": [
    {
     "name": "stdout",
     "output_type": "stream",
     "text": [
      "+--------+----------+------+----+--------+----------+----------+-----------+----------------------------------------------+\n",
      "|driverId|driverRef |number|code|forename|surname   |dob       |nationality|url                                           |\n",
      "+--------+----------+------+----+--------+----------+----------+-----------+----------------------------------------------+\n",
      "|1       |hamilton  |44    |HAM |Lewis   |Hamilton  |1985-01-07|British    |http://en.wikipedia.org/wiki/Lewis_Hamilton   |\n",
      "|2       |heidfeld  |\\N    |HEI |Nick    |Heidfeld  |1977-05-10|German     |http://en.wikipedia.org/wiki/Nick_Heidfeld    |\n",
      "|3       |rosberg   |6     |ROS |Nico    |Rosberg   |1985-06-27|German     |http://en.wikipedia.org/wiki/Nico_Rosberg     |\n",
      "|4       |alonso    |14    |ALO |Fernando|Alonso    |1981-07-29|Spanish    |http://en.wikipedia.org/wiki/Fernando_Alonso  |\n",
      "|5       |kovalainen|\\N    |KOV |Heikki  |Kovalainen|1981-10-19|Finnish    |http://en.wikipedia.org/wiki/Heikki_Kovalainen|\n",
      "+--------+----------+------+----+--------+----------+----------+-----------+----------------------------------------------+\n",
      "only showing top 5 rows\n",
      "\n"
     ]
    }
   ],
   "source": [
    "drivers_df.show(5,false)"
   ]
  },
  {
   "cell_type": "code",
   "execution_count": 27,
   "id": "d99a5cc7",
   "metadata": {},
   "outputs": [
    {
     "name": "stdout",
     "output_type": "stream",
     "text": [
      "root\n",
      " |-- driverId: string (nullable = true)\n",
      " |-- driverRef: string (nullable = true)\n",
      " |-- number: string (nullable = true)\n",
      " |-- code: string (nullable = true)\n",
      " |-- forename: string (nullable = true)\n",
      " |-- surname: string (nullable = true)\n",
      " |-- dob: string (nullable = true)\n",
      " |-- nationality: string (nullable = true)\n",
      " |-- url: string (nullable = true)\n",
      "\n"
     ]
    }
   ],
   "source": [
    "drivers_df.printSchema()"
   ]
  },
  {
   "cell_type": "code",
   "execution_count": 34,
   "id": "7f802719",
   "metadata": {},
   "outputs": [
    {
     "data": {
      "text/plain": [
       "drivers_df_clean: org.apache.spark.sql.DataFrame = [driverId: int, driverRef: string ... 7 more fields]\n"
      ]
     },
     "execution_count": 34,
     "metadata": {},
     "output_type": "execute_result"
    }
   ],
   "source": [
    "val drivers_df_clean = drivers_df\n",
    "  .withColumn(\"driverId\", col(\"driverId\").cast(\"Integer\"))\n",
    "  .withColumn(\"number\", col(\"number\").cast(\"Integer\"))\n",
    "  .withColumn(\"dob\", to_date(col(\"dob\"), \"yyyy-MM-dd\"))"
   ]
  },
  {
   "cell_type": "code",
   "execution_count": 35,
   "id": "7e732388",
   "metadata": {},
   "outputs": [
    {
     "name": "stdout",
     "output_type": "stream",
     "text": [
      "root\n",
      " |-- driverId: integer (nullable = true)\n",
      " |-- driverRef: string (nullable = true)\n",
      " |-- number: integer (nullable = true)\n",
      " |-- code: string (nullable = true)\n",
      " |-- forename: string (nullable = true)\n",
      " |-- surname: string (nullable = true)\n",
      " |-- dob: date (nullable = true)\n",
      " |-- nationality: string (nullable = true)\n",
      " |-- url: string (nullable = true)\n",
      "\n"
     ]
    }
   ],
   "source": [
    "drivers_df_clean.printSchema()"
   ]
  },
  {
   "cell_type": "code",
   "execution_count": 30,
   "id": "60b70afe",
   "metadata": {},
   "outputs": [
    {
     "name": "stdout",
     "output_type": "stream",
     "text": [
      "+-------------+--------------+----------+-----------+------------------------------------------------------------+\n",
      "|constructorId|constructorRef|name      |nationality|url                                                         |\n",
      "+-------------+--------------+----------+-----------+------------------------------------------------------------+\n",
      "|1            |mclaren       |McLaren   |British    |http://en.wikipedia.org/wiki/McLaren                        |\n",
      "|2            |bmw_sauber    |BMW Sauber|German     |http://en.wikipedia.org/wiki/BMW_Sauber                     |\n",
      "|3            |williams      |Williams  |British    |http://en.wikipedia.org/wiki/Williams_Grand_Prix_Engineering|\n",
      "|4            |renault       |Renault   |French     |http://en.wikipedia.org/wiki/Renault_in_Formula_One         |\n",
      "|5            |toro_rosso    |Toro Rosso|Italian    |http://en.wikipedia.org/wiki/Scuderia_Toro_Rosso            |\n",
      "+-------------+--------------+----------+-----------+------------------------------------------------------------+\n",
      "only showing top 5 rows\n",
      "\n"
     ]
    }
   ],
   "source": [
    "constructor_df.show(5,false)"
   ]
  },
  {
   "cell_type": "code",
   "execution_count": 31,
   "id": "17f5987b",
   "metadata": {},
   "outputs": [
    {
     "name": "stdout",
     "output_type": "stream",
     "text": [
      "root\n",
      " |-- constructorId: string (nullable = true)\n",
      " |-- constructorRef: string (nullable = true)\n",
      " |-- name: string (nullable = true)\n",
      " |-- nationality: string (nullable = true)\n",
      " |-- url: string (nullable = true)\n",
      "\n"
     ]
    }
   ],
   "source": [
    "constructor_df.printSchema()"
   ]
  },
  {
   "cell_type": "code",
   "execution_count": 33,
   "id": "8f34c7cd",
   "metadata": {},
   "outputs": [
    {
     "data": {
      "text/plain": [
       "constructor_df_clean: org.apache.spark.sql.DataFrame = [constructorId: int, constructorRef: string ... 3 more fields]\n"
      ]
     },
     "execution_count": 33,
     "metadata": {},
     "output_type": "execute_result"
    }
   ],
   "source": [
    "val constructor_df_clean = constructor_df\n",
    "  .withColumn(\"constructorId\", col(\"constructorId\").cast(\"Integer\"))"
   ]
  },
  {
   "cell_type": "code",
   "execution_count": 36,
   "id": "5f95d88a",
   "metadata": {},
   "outputs": [
    {
     "name": "stdout",
     "output_type": "stream",
     "text": [
      "root\n",
      " |-- constructorId: integer (nullable = true)\n",
      " |-- constructorRef: string (nullable = true)\n",
      " |-- name: string (nullable = true)\n",
      " |-- nationality: string (nullable = true)\n",
      " |-- url: string (nullable = true)\n",
      "\n"
     ]
    }
   ],
   "source": [
    "constructor_df_clean.printSchema()"
   ]
  },
  {
   "cell_type": "code",
   "execution_count": 37,
   "id": "6a9b6c12",
   "metadata": {},
   "outputs": [
    {
     "name": "stdout",
     "output_type": "stream",
     "text": [
      "+-----------------+------+--------+------+--------+------------+----+\n",
      "|driverStandingsId|raceId|driverId|points|position|positionText|wins|\n",
      "+-----------------+------+--------+------+--------+------------+----+\n",
      "|1                |18    |1       |10    |1       |1           |1   |\n",
      "|2                |18    |2       |8     |2       |2           |0   |\n",
      "|3                |18    |3       |6     |3       |3           |0   |\n",
      "|4                |18    |4       |5     |4       |4           |0   |\n",
      "|5                |18    |5       |4     |5       |5           |0   |\n",
      "+-----------------+------+--------+------+--------+------------+----+\n",
      "only showing top 5 rows\n",
      "\n"
     ]
    }
   ],
   "source": [
    "driver_standings_df.show(5,false)"
   ]
  },
  {
   "cell_type": "code",
   "execution_count": 38,
   "id": "d8a47189",
   "metadata": {},
   "outputs": [
    {
     "name": "stdout",
     "output_type": "stream",
     "text": [
      "root\n",
      " |-- driverStandingsId: string (nullable = true)\n",
      " |-- raceId: string (nullable = true)\n",
      " |-- driverId: string (nullable = true)\n",
      " |-- points: string (nullable = true)\n",
      " |-- position: string (nullable = true)\n",
      " |-- positionText: string (nullable = true)\n",
      " |-- wins: string (nullable = true)\n",
      "\n"
     ]
    }
   ],
   "source": [
    "driver_standings_df.printSchema()"
   ]
  },
  {
   "cell_type": "code",
   "execution_count": 39,
   "id": "85757ff3",
   "metadata": {},
   "outputs": [
    {
     "data": {
      "text/plain": [
       "driver_standings_df_clean: org.apache.spark.sql.DataFrame = [driverStandingsId: int, raceId: int ... 5 more fields]\n"
      ]
     },
     "execution_count": 39,
     "metadata": {},
     "output_type": "execute_result"
    }
   ],
   "source": [
    "val driver_standings_df_clean = driver_standings_df\n",
    "  .withColumn(\"driverStandingsId\", col(\"driverStandingsId\").cast(\"Integer\"))\n",
    "  .withColumn(\"raceId\", col(\"raceId\").cast(\"Integer\"))\n",
    "  .withColumn(\"driverId\", col(\"driverId\").cast(\"Integer\"))\n",
    "  .withColumn(\"points\", col(\"points\").cast(\"Integer\"))\n",
    "  .withColumn(\"position\", col(\"position\").cast(\"Integer\"))\n",
    "  .withColumn(\"positionText\", col(\"positionText\").cast(\"Integer\"))\n",
    "  .withColumn(\"wins\", col(\"wins\").cast(\"Integer\"))"
   ]
  },
  {
   "cell_type": "code",
   "execution_count": 40,
   "id": "c6c33ef9",
   "metadata": {},
   "outputs": [
    {
     "name": "stdout",
     "output_type": "stream",
     "text": [
      "root\n",
      " |-- driverStandingsId: integer (nullable = true)\n",
      " |-- raceId: integer (nullable = true)\n",
      " |-- driverId: integer (nullable = true)\n",
      " |-- points: integer (nullable = true)\n",
      " |-- position: integer (nullable = true)\n",
      " |-- positionText: integer (nullable = true)\n",
      " |-- wins: integer (nullable = true)\n",
      "\n"
     ]
    }
   ],
   "source": [
    "driver_standings_df_clean.printSchema()"
   ]
  },
  {
   "cell_type": "code",
   "execution_count": null,
   "id": "9cd7f5e3",
   "metadata": {},
   "outputs": [],
   "source": []
  }
 ],
 "metadata": {
  "kernelspec": {
   "display_name": "spylon-kernel",
   "language": "scala",
   "name": "spylon-kernel"
  },
  "language_info": {
   "codemirror_mode": "text/x-scala",
   "file_extension": ".scala",
   "help_links": [
    {
     "text": "MetaKernel Magics",
     "url": "https://metakernel.readthedocs.io/en/latest/source/README.html"
    }
   ],
   "mimetype": "text/x-scala",
   "name": "scala",
   "pygments_lexer": "scala",
   "version": "0.4.1"
  }
 },
 "nbformat": 4,
 "nbformat_minor": 5
}

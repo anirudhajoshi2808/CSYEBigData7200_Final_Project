{
 "cells": [
  {
   "cell_type": "code",
   "execution_count": 1,
   "id": "01996d90",
   "metadata": {},
   "outputs": [
    {
     "data": {
      "text/plain": [
       "Intitializing Scala interpreter ..."
      ]
     },
     "metadata": {},
     "output_type": "display_data"
    },
    {
     "data": {
      "text/plain": [
       "Spark Web UI available at http://10.110.86.43:4040\n",
       "SparkContext available as 'sc' (version = 3.3.2, master = local[*], app id = local-1680295525256)\n",
       "SparkSession available as 'spark'\n"
      ]
     },
     "metadata": {},
     "output_type": "display_data"
    },
    {
     "name": "stdout",
     "output_type": "stream",
     "text": [
      "23/03/31 16:45:28 WARN SparkSession: Using an existing Spark session; only runtime SQL configurations will take effect.\n"
     ]
    },
    {
     "data": {
      "text/plain": [
       "import org.apache.spark.sql.SparkSession\n",
       "spark: org.apache.spark.sql.SparkSession = org.apache.spark.sql.SparkSession@5f30e7a1\n"
      ]
     },
     "execution_count": 1,
     "metadata": {},
     "output_type": "execute_result"
    }
   ],
   "source": [
    "import org.apache.spark.sql.SparkSession\n",
    "\n",
    "val spark = SparkSession\n",
    "  .builder()\n",
    "  .appName(\"f1-project\")\n",
    "  .getOrCreate()"
   ]
  },
  {
   "cell_type": "code",
   "execution_count": 2,
   "id": "26f12fa3",
   "metadata": {},
   "outputs": [
    {
     "data": {
      "text/plain": [
       "sc: org.apache.spark.SparkContext = org.apache.spark.SparkContext@46e24902\n"
      ]
     },
     "execution_count": 2,
     "metadata": {},
     "output_type": "execute_result"
    }
   ],
   "source": [
    "val sc = spark.sparkContext"
   ]
  },
  {
   "cell_type": "code",
   "execution_count": 6,
   "id": "94824428",
   "metadata": {},
   "outputs": [
    {
     "data": {
      "text/plain": [
       "result_df: org.apache.spark.sql.DataFrame = [resultId: string, raceId: string ... 16 more fields]\n",
       "stats_df: org.apache.spark.sql.DataFrame = [statusId: string, status: string]\n",
       "drivers_df: org.apache.spark.sql.DataFrame = [driverId: string, driverRef: string ... 7 more fields]\n",
       "races_df: org.apache.spark.sql.DataFrame = [raceId: string, year: string ... 16 more fields]\n",
       "constructor_df: org.apache.spark.sql.DataFrame = [constructorId: string, constructorRef: string ... 3 more fields]\n",
       "driver_standings_df: org.apache.spark.sql.DataFrame = [driverStandingsId: string, raceId: string ... 5 more fields]\n"
      ]
     },
     "execution_count": 6,
     "metadata": {},
     "output_type": "execute_result"
    }
   ],
   "source": [
    "val result_df = spark.read.option(\"header\", \"true\").csv(\"data/results.csv\")\n",
    "val stats_df = spark.read.option(\"header\", \"true\").csv(\"data/status.csv\")\n",
    "val drivers_df = spark.read.option(\"header\", \"true\").csv(\"data/drivers.csv\")\n",
    "val races_df = spark.read.option(\"header\", \"true\").csv(\"data/races.csv\")\n",
    "val constructor_df = spark.read.option(\"header\", \"true\").csv(\"data/constructors.csv\")\n",
    "val driver_standings_df = spark.read.option(\"header\", \"true\").csv(\"data/driver_standings.csv\")\n",
    "\n"
   ]
  },
  {
   "cell_type": "code",
   "execution_count": 20,
   "id": "f2218c65",
   "metadata": {
    "scrolled": true
   },
   "outputs": [
    {
     "name": "stdout",
     "output_type": "stream",
     "text": [
      "+--------+------+--------+-------------+------+----+--------+------------+-------------+------+----+-----------+------------+----------+----+--------------+---------------+--------+\n",
      "|resultId|raceId|driverId|constructorId|number|grid|position|positionText|positionOrder|points|laps|time       |milliseconds|fastestLap|rank|fastestLapTime|fastestLapSpeed|statusId|\n",
      "+--------+------+--------+-------------+------+----+--------+------------+-------------+------+----+-----------+------------+----------+----+--------------+---------------+--------+\n",
      "|1       |18    |1       |1            |22    |1   |1       |1           |1            |10    |58  |1:34:50.616|5690616     |39        |2   |1:27.452      |218.300        |1       |\n",
      "|2       |18    |2       |2            |3     |5   |2       |2           |2            |8     |58  |+5.478     |5696094     |41        |3   |1:27.739      |217.586        |1       |\n",
      "|3       |18    |3       |3            |7     |7   |3       |3           |3            |6     |58  |+8.163     |5698779     |41        |5   |1:28.090      |216.719        |1       |\n",
      "|4       |18    |4       |4            |5     |11  |4       |4           |4            |5     |58  |+17.181    |5707797     |58        |7   |1:28.603      |215.464        |1       |\n",
      "|5       |18    |5       |1            |23    |3   |5       |5           |5            |4     |58  |+18.014    |5708630     |43        |1   |1:27.418      |218.385        |1       |\n",
      "+--------+------+--------+-------------+------+----+--------+------------+-------------+------+----+-----------+------------+----------+----+--------------+---------------+--------+\n",
      "only showing top 5 rows\n",
      "\n"
     ]
    }
   ],
   "source": [
    "result_df.show(5,false) "
   ]
  },
  {
   "cell_type": "code",
   "execution_count": 19,
   "id": "918789d9",
   "metadata": {},
   "outputs": [
    {
     "name": "stdout",
     "output_type": "stream",
     "text": [
      "+--------+------------+\n",
      "|statusId|status      |\n",
      "+--------+------------+\n",
      "|1       |Finished    |\n",
      "|2       |Disqualified|\n",
      "|3       |Accident    |\n",
      "|4       |Collision   |\n",
      "|5       |Engine      |\n",
      "+--------+------------+\n",
      "only showing top 5 rows\n",
      "\n"
     ]
    }
   ],
   "source": [
    "stats_df.show(5,false) "
   ]
  },
  {
   "cell_type": "code",
   "execution_count": 18,
   "id": "a21eda20",
   "metadata": {},
   "outputs": [
    {
     "name": "stdout",
     "output_type": "stream",
     "text": [
      "+--------+----------+------+----+--------+----------+----------+-----------+----------------------------------------------+\n",
      "|driverId|driverRef |number|code|forename|surname   |dob       |nationality|url                                           |\n",
      "+--------+----------+------+----+--------+----------+----------+-----------+----------------------------------------------+\n",
      "|1       |hamilton  |44    |HAM |Lewis   |Hamilton  |1985-01-07|British    |http://en.wikipedia.org/wiki/Lewis_Hamilton   |\n",
      "|2       |heidfeld  |\\N    |HEI |Nick    |Heidfeld  |1977-05-10|German     |http://en.wikipedia.org/wiki/Nick_Heidfeld    |\n",
      "|3       |rosberg   |6     |ROS |Nico    |Rosberg   |1985-06-27|German     |http://en.wikipedia.org/wiki/Nico_Rosberg     |\n",
      "|4       |alonso    |14    |ALO |Fernando|Alonso    |1981-07-29|Spanish    |http://en.wikipedia.org/wiki/Fernando_Alonso  |\n",
      "|5       |kovalainen|\\N    |KOV |Heikki  |Kovalainen|1981-10-19|Finnish    |http://en.wikipedia.org/wiki/Heikki_Kovalainen|\n",
      "+--------+----------+------+----+--------+----------+----------+-----------+----------------------------------------------+\n",
      "only showing top 5 rows\n",
      "\n"
     ]
    }
   ],
   "source": [
    "drivers_df.show(5,false)"
   ]
  },
  {
   "cell_type": "code",
   "execution_count": 15,
   "id": "340fc252",
   "metadata": {},
   "outputs": [
    {
     "name": "stdout",
     "output_type": "stream",
     "text": [
      "+------+----+-----+---------+---------------------+----------+--------+-------------------------------------------------------+--------+--------+--------+--------+--------+--------+----------+----------+-----------+-----------+\n",
      "|raceId|year|round|circuitId|name                 |date      |time    |url                                                    |fp1_date|fp1_time|fp2_date|fp2_time|fp3_date|fp3_time|quali_date|quali_time|sprint_date|sprint_time|\n",
      "+------+----+-----+---------+---------------------+----------+--------+-------------------------------------------------------+--------+--------+--------+--------+--------+--------+----------+----------+-----------+-----------+\n",
      "|1     |2009|1    |1        |Australian Grand Prix|2009-03-29|06:00:00|http://en.wikipedia.org/wiki/2009_Australian_Grand_Prix|\\N      |\\N      |\\N      |\\N      |\\N      |\\N      |\\N        |\\N        |\\N         |\\N         |\n",
      "|2     |2009|2    |2        |Malaysian Grand Prix |2009-04-05|09:00:00|http://en.wikipedia.org/wiki/2009_Malaysian_Grand_Prix |\\N      |\\N      |\\N      |\\N      |\\N      |\\N      |\\N        |\\N        |\\N         |\\N         |\n",
      "|3     |2009|3    |17       |Chinese Grand Prix   |2009-04-19|07:00:00|http://en.wikipedia.org/wiki/2009_Chinese_Grand_Prix   |\\N      |\\N      |\\N      |\\N      |\\N      |\\N      |\\N        |\\N        |\\N         |\\N         |\n",
      "|4     |2009|4    |3        |Bahrain Grand Prix   |2009-04-26|12:00:00|http://en.wikipedia.org/wiki/2009_Bahrain_Grand_Prix   |\\N      |\\N      |\\N      |\\N      |\\N      |\\N      |\\N        |\\N        |\\N         |\\N         |\n",
      "|5     |2009|5    |4        |Spanish Grand Prix   |2009-05-10|12:00:00|http://en.wikipedia.org/wiki/2009_Spanish_Grand_Prix   |\\N      |\\N      |\\N      |\\N      |\\N      |\\N      |\\N        |\\N        |\\N         |\\N         |\n",
      "+------+----+-----+---------+---------------------+----------+--------+-------------------------------------------------------+--------+--------+--------+--------+--------+--------+----------+----------+-----------+-----------+\n",
      "only showing top 5 rows\n",
      "\n"
     ]
    }
   ],
   "source": [
    "races_df.show(5,false)"
   ]
  },
  {
   "cell_type": "code",
   "execution_count": 16,
   "id": "bb19f3b3",
   "metadata": {},
   "outputs": [
    {
     "name": "stdout",
     "output_type": "stream",
     "text": [
      "+-------------+--------------+----------+-----------+------------------------------------------------------------+\n",
      "|constructorId|constructorRef|name      |nationality|url                                                         |\n",
      "+-------------+--------------+----------+-----------+------------------------------------------------------------+\n",
      "|1            |mclaren       |McLaren   |British    |http://en.wikipedia.org/wiki/McLaren                        |\n",
      "|2            |bmw_sauber    |BMW Sauber|German     |http://en.wikipedia.org/wiki/BMW_Sauber                     |\n",
      "|3            |williams      |Williams  |British    |http://en.wikipedia.org/wiki/Williams_Grand_Prix_Engineering|\n",
      "|4            |renault       |Renault   |French     |http://en.wikipedia.org/wiki/Renault_in_Formula_One         |\n",
      "|5            |toro_rosso    |Toro Rosso|Italian    |http://en.wikipedia.org/wiki/Scuderia_Toro_Rosso            |\n",
      "+-------------+--------------+----------+-----------+------------------------------------------------------------+\n",
      "only showing top 5 rows\n",
      "\n"
     ]
    }
   ],
   "source": [
    "constructor_df.show(5,false)"
   ]
  },
  {
   "cell_type": "code",
   "execution_count": 17,
   "id": "45565325",
   "metadata": {},
   "outputs": [
    {
     "name": "stdout",
     "output_type": "stream",
     "text": [
      "+-----------------+------+--------+------+--------+------------+----+\n",
      "|driverStandingsId|raceId|driverId|points|position|positionText|wins|\n",
      "+-----------------+------+--------+------+--------+------------+----+\n",
      "|1                |18    |1       |10    |1       |1           |1   |\n",
      "|2                |18    |2       |8     |2       |2           |0   |\n",
      "|3                |18    |3       |6     |3       |3           |0   |\n",
      "|4                |18    |4       |5     |4       |4           |0   |\n",
      "|5                |18    |5       |4     |5       |5           |0   |\n",
      "+-----------------+------+--------+------+--------+------------+----+\n",
      "only showing top 5 rows\n",
      "\n"
     ]
    }
   ],
   "source": [
    "driver_standings_df.show(5,false)"
   ]
  },
  {
   "cell_type": "code",
   "execution_count": null,
   "id": "d253be94",
   "metadata": {},
   "outputs": [],
   "source": []
  }
 ],
 "metadata": {
  "kernelspec": {
   "display_name": "spylon-kernel",
   "language": "scala",
   "name": "spylon-kernel"
  },
  "language_info": {
   "codemirror_mode": "text/x-scala",
   "file_extension": ".scala",
   "help_links": [
    {
     "text": "MetaKernel Magics",
     "url": "https://metakernel.readthedocs.io/en/latest/source/README.html"
    }
   ],
   "mimetype": "text/x-scala",
   "name": "scala",
   "pygments_lexer": "scala",
   "version": "0.4.1"
  }
 },
 "nbformat": 4,
 "nbformat_minor": 5
}

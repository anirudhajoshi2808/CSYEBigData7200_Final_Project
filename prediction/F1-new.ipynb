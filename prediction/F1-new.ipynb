{
 "cells": [
  {
   "cell_type": "code",
   "execution_count": 1,
   "id": "3219bd1d",
   "metadata": {},
   "outputs": [
    {
     "data": {
      "text/plain": [
       "Intitializing Scala interpreter ..."
      ]
     },
     "metadata": {},
     "output_type": "display_data"
    },
    {
     "data": {
      "text/plain": [
       "Spark Web UI available at http://10.110.168.85:4041\n",
       "SparkContext available as 'sc' (version = 3.3.2, master = local[*], app id = local-1681853168221)\n",
       "SparkSession available as 'spark'\n"
      ]
     },
     "metadata": {},
     "output_type": "display_data"
    },
    {
     "name": "stdout",
     "output_type": "stream",
     "text": [
      "23/04/18 17:26:11 WARN SparkSession: Using an existing Spark session; only runtime SQL configurations will take effect.\n"
     ]
    },
    {
     "data": {
      "text/plain": [
       "import org.apache.spark.sql.SparkSession\n",
       "spark: org.apache.spark.sql.SparkSession = org.apache.spark.sql.SparkSession@611527a3\n"
      ]
     },
     "execution_count": 1,
     "metadata": {},
     "output_type": "execute_result"
    }
   ],
   "source": [
    "import org.apache.spark.sql.SparkSession\n",
    "\n",
    "val spark = SparkSession\n",
    "  .builder()\n",
    "  .appName(\"F1 New\")\n",
    "  .getOrCreate()"
   ]
  },
  {
   "cell_type": "code",
   "execution_count": 2,
   "id": "eb195953",
   "metadata": {},
   "outputs": [
    {
     "data": {
      "text/plain": [
       "sc: org.apache.spark.SparkContext = org.apache.spark.SparkContext@28b59462\n"
      ]
     },
     "execution_count": 2,
     "metadata": {},
     "output_type": "execute_result"
    }
   ],
   "source": [
    "val sc = spark.sparkContext"
   ]
  },
  {
   "cell_type": "code",
   "execution_count": 3,
   "id": "3b5b1aff",
   "metadata": {},
   "outputs": [
    {
     "data": {
      "text/plain": [
       "drivers: org.apache.spark.sql.DataFrame = [driverId: string, driverRef: string ... 7 more fields]\n",
       "races: org.apache.spark.sql.DataFrame = [raceId: string, year: string ... 16 more fields]\n",
       "quali: org.apache.spark.sql.DataFrame = [qualifyId: string, raceId: string ... 7 more fields]\n",
       "results: org.apache.spark.sql.DataFrame = [resultId: string, raceId: string ... 16 more fields]\n",
       "constructors: org.apache.spark.sql.DataFrame = [constructorId: string, constructorRef: string ... 3 more fields]\n"
      ]
     },
     "execution_count": 3,
     "metadata": {},
     "output_type": "execute_result"
    }
   ],
   "source": [
    "val drivers = spark.read.format(\"csv\")\n",
    "  .option(\"header\", \"true\")\n",
    "  .load(\"../data/drivers.csv\")\n",
    "\n",
    "val races = spark.read.format(\"csv\")\n",
    "  .option(\"header\", \"true\")\n",
    "  .load(\"../data/races.csv\")\n",
    "\n",
    "val quali = spark.read.format(\"csv\")\n",
    "  .option(\"header\", \"true\")\n",
    "  .load(\"../data/qualifying.csv\")\n",
    "\n",
    "val results = spark.read.format(\"csv\")\n",
    "  .option(\"header\", \"true\")\n",
    "  .load(\"../data/results.csv\")\n",
    "\n",
    "val constructors = spark.read.format(\"csv\")\n",
    "  .option(\"header\", \"true\")\n",
    "  .load(\"../data/constructors.csv\")"
   ]
  },
  {
   "cell_type": "code",
   "execution_count": 17,
   "id": "ca33b256",
   "metadata": {},
   "outputs": [
    {
     "data": {
      "text/plain": [
       "hungarianRace: org.apache.spark.sql.Dataset[org.apache.spark.sql.Row] = [raceId: string, year: string ... 16 more fields]\n",
       "britishRace: org.apache.spark.sql.Dataset[org.apache.spark.sql.Row] = [raceId: string, year: string ... 16 more fields]\n",
       "qualiDrivers: org.apache.spark.sql.DataFrame = [driverId: string, qualifyId: string ... 15 more fields]\n",
       "resultsRaces: org.apache.spark.sql.DataFrame = [driverId: string, constructorId: string ... 45 more fields]\n",
       "hungarianData: org.apache.spark.sql.DataFrame = [raceId: string, driverId: string ... 77 more fields]\n",
       "britishData: org.apache.spark.sql.DataFrame = [raceId: string, driverId: string ... 77 more fields]\n"
      ]
     },
     "execution_count": 17,
     "metadata": {},
     "output_type": "execute_result"
    }
   ],
   "source": [
    "// Filter Races based on \"name\"\n",
    "val hungarianRace = races.filter(col(\"name\") === \"Hungarian Grand Prix\")\n",
    "val britishRace = races.filter(col(\"name\") === \"British Grand Prix\")\n",
    "\n",
    "// Join Quali and Drivers dataframes\n",
    "val qualiDrivers = quali.join(drivers, Seq(\"driverId\"))\n",
    "\n",
    "// Join Results, Races, Constructors and Drivers dataframes\n",
    "val resultsRaces = results.join(races, Seq(\"raceId\"))\n",
    "  .join(constructors, Seq(\"constructorId\"))\n",
    "  .join(drivers, Seq(\"driverId\"))\n",
    "\n",
    "// Merge data for Hungarian Grand Prix\n",
    "val hungarianData = resultsRaces.join(hungarianRace, Seq(\"raceId\"))\n",
    "  .join(qualiDrivers, Seq(\"raceId\", \"driverId\"), \"left\")\n",
    "  .na.drop()\n",
    "\n",
    "// Merge data for British Grand Prix\n",
    "val britishData = resultsRaces.join(britishRace, Seq(\"raceId\"))\n",
    "  .join(qualiDrivers, Seq(\"raceId\", \"driverId\"), \"left\")\n",
    "  .na.drop()\n",
    "\n",
    "\n"
   ]
  },
  {
   "cell_type": "code",
   "execution_count": 39,
   "id": "2276506d",
   "metadata": {},
   "outputs": [
    {
     "data": {
      "text/plain": [
       "hungarianData: org.apache.spark.sql.DataFrame = [raceId: string, driverId: string ... 49 more fields]\n",
       "britishData: org.apache.spark.sql.DataFrame = [raceId: string, driverId: string ... 49 more fields]\n"
      ]
     },
     "execution_count": 39,
     "metadata": {},
     "output_type": "execute_result"
    }
   ],
   "source": [
    "// Merge data for Hungarian Grand Prix with aliases\n",
    "val hungarianData = resultsRaces.alias(\"r\")\n",
    "  .join(hungarianRace.alias(\"hr\"), Seq(\"raceId\"))\n",
    "  .join(qualiDrivers.alias(\"qd\"), Seq(\"raceId\", \"driverId\"), \"left\")\n",
    "  .na.drop()\n",
    "  .selectExpr(\"r.*\", \"hr.name as race_name\", \"hr.date as race_date\", \"hr.time as race_time\", \"qd.position as quali_position\")\n",
    "\n",
    "// Merge data for British Grand Prix with aliases\n",
    "val britishData = resultsRaces.alias(\"r\")\n",
    "  .join(britishRace.alias(\"br\"), Seq(\"raceId\"))\n",
    "  .join(qualiDrivers.alias(\"qd\"), Seq(\"raceId\", \"driverId\"), \"left\")\n",
    "  .na.drop()\n",
    "  .selectExpr(\"r.*\", \"br.name as race_name\", \"br.date as race_date\", \"br.time as race_time\", \"qd.position as quali_position\")\n"
   ]
  },
  {
   "cell_type": "code",
   "execution_count": 41,
   "id": "d702c04a",
   "metadata": {},
   "outputs": [
    {
     "data": {
      "text/plain": [
       "import org.apache.spark.ml.feature.StringIndexer\n",
       "indexedCols: Seq[String] = List(driverId)\n",
       "hungarianIndexed: org.apache.spark.sql.DataFrame = [raceId: string, driverId: string ... 50 more fields]\n",
       "britishIndexed: org.apache.spark.sql.DataFrame = [raceId: string, driverId: string ... 50 more fields]\n"
      ]
     },
     "execution_count": 41,
     "metadata": {},
     "output_type": "execute_result"
    }
   ],
   "source": [
    "import org.apache.spark.ml.feature.StringIndexer\n",
    "\n",
    "// define list of columns to index\n",
    "val indexedCols = Seq(\"driverId\")\n",
    "\n",
    "// create a StringIndexer for each column and fit/transform the data\n",
    "val hungarianIndexed = indexedCols.foldLeft(hungarianData) { (df, col) =>\n",
    "  val indexer = new StringIndexer().setInputCol(col).setOutputCol(col + \"_indexed\")\n",
    "  indexer.fit(df).transform(df)\n",
    "}\n",
    "\n",
    "val britishIndexed = indexedCols.foldLeft(britishData) { (df, col) =>\n",
    "  val indexer = new StringIndexer().setInputCol(col).setOutputCol(col + \"_indexed\")\n",
    "  indexer.fit(df).transform(df)\n",
    "}\n"
   ]
  },
  {
   "cell_type": "code",
   "execution_count": 42,
   "id": "5b5a1ed4",
   "metadata": {
    "scrolled": true
   },
   "outputs": [
    {
     "name": "stdout",
     "output_type": "stream",
     "text": [
      "+------+--------+-------------+--------+------+----+--------+------------+-------------+------+----+-------+------------+----------+----+--------------+---------------+--------+----+-----+---------+--------------------+----------+--------+--------------------+--------+--------+--------+--------+--------+--------+----------+----------+-----------+-----------+--------------+--------+-----------+--------------------+-----------+------+----+---------------+-------------+----------+-----------+--------------------+--------------------+----------+---------+--------------+----------------+\n",
      "|raceId|driverId|constructorId|resultId|number|grid|position|positionText|positionOrder|points|laps|   time|milliseconds|fastestLap|rank|fastestLapTime|fastestLapSpeed|statusId|year|round|circuitId|                name|      date|    time|                 url|fp1_date|fp1_time|fp2_date|fp2_time|fp3_date|fp3_time|quali_date|quali_time|sprint_date|sprint_time|constructorRef|    name|nationality|                 url|  driverRef|number|code|       forename|      surname|       dob|nationality|                 url|           race_name| race_date|race_time|quali_position|driverId_indexed|\n",
      "+------+--------+-------------+--------+------+----+--------+------------+-------------+------+----+-------+------------+----------+----+--------------+---------------+--------+----+-----+---------+--------------------+----------+--------+--------------------+--------+--------+--------+--------+--------+--------+----------+----------+-----------+-----------+--------------+--------+-----------+--------------------+-----------+------+----+---------------+-------------+----------+-----------+--------------------+--------------------+----------+---------+--------------+----------------+\n",
      "|   120|      31|            3|    2117|     3|   4|       3|           3|            3|     6|  70|+34.537|     5975997|        \\N|  \\N|            \\N|             \\N|       1|2003|   13|       11|Hungarian Grand Prix|2003-08-24|      \\N|http://en.wikiped...|      \\N|      \\N|      \\N|      \\N|      \\N|      \\N|        \\N|        \\N|         \\N|         \\N|      williams|Williams|    British|http://en.wikiped...|    montoya|    \\N| MON|           Juan|Pablo Montoya|1975-09-20|  Colombian|http://en.wikiped...|Hungarian Grand Prix|2003-08-24|       \\N|             4|            43.0|\n",
      "|   958|     822|            3|   23145|    77|  10|       9|           9|            9|     2|  69|     \\N|          \\N|        59|  11|      1:25.273|        184.954|      11|2016|   11|       11|Hungarian Grand Prix|2016-07-24|12:00:00|http://en.wikiped...|      \\N|      \\N|      \\N|      \\N|      \\N|      \\N|        \\N|        \\N|         \\N|         \\N|      williams|Williams|    British|http://en.wikiped...|     bottas|    77| BOT|       Valtteri|       Bottas|1989-08-28|    Finnish|http://en.wikiped...|Hungarian Grand Prix|2016-07-24| 12:00:00|            10|            11.0|\n",
      "|   120|      22|            6|    2133|     2|   5|      \\N|           R|           19|     0|  19|     \\N|          \\N|        \\N|  \\N|            \\N|             \\N|      22|2003|   13|       11|Hungarian Grand Prix|2003-08-24|      \\N|http://en.wikiped...|      \\N|      \\N|      \\N|      \\N|      \\N|      \\N|        \\N|        \\N|         \\N|         \\N|       ferrari| Ferrari|    Italian|http://en.wikiped...|barrichello|    \\N| BAR|         Rubens|  Barrichello|1972-05-23|  Brazilian|http://en.wikiped...|Hungarian Grand Prix|2003-08-24|       \\N|             5|             7.0|\n",
      "|   249|      96|           15|    4956|    29|  19|      10|          10|           10|     0|  74|     \\N|          \\N|        \\N|  \\N|            \\N|             \\N|      13|1995|   10|       11|Hungarian Grand Prix|1995-08-13|      \\N|http://en.wikiped...|      \\N|      \\N|      \\N|      \\N|      \\N|      \\N|        \\N|        \\N|         \\N|         \\N|        sauber|  Sauber|      Swiss|http://en.wikiped...|   boullion|    \\N|  \\N|Jean-Christophe|     Boullion|1969-12-27|     French|http://en.wikiped...|Hungarian Grand Prix|1995-08-13|       \\N|            19|           122.0|\n",
      "|    10|       5|            1|    7738|     2|   6|       5|           5|            5|     4|  70|+34.392|     5938268|        63|   8|      1:22.958|        190.115|       1|2009|   10|       11|Hungarian Grand Prix|2009-07-26|12:00:00|http://en.wikiped...|      \\N|      \\N|      \\N|      \\N|      \\N|      \\N|        \\N|        \\N|         \\N|         \\N|       mclaren| McLaren|    British|http://en.wikiped...| kovalainen|    \\N| KOV|         Heikki|   Kovalainen|1981-10-19|    Finnish|http://en.wikiped...|Hungarian Grand Prix|2009-07-26| 12:00:00|             6|            23.0|\n",
      "+------+--------+-------------+--------+------+----+--------+------------+-------------+------+----+-------+------------+----------+----+--------------+---------------+--------+----+-----+---------+--------------------+----------+--------+--------------------+--------+--------+--------+--------+--------+--------+----------+----------+-----------+-----------+--------------+--------+-----------+--------------------+-----------+------+----+---------------+-------------+----------+-----------+--------------------+--------------------+----------+---------+--------------+----------------+\n",
      "only showing top 5 rows\n",
      "\n"
     ]
    }
   ],
   "source": [
    "hungarianIndexed.show(5)"
   ]
  },
  {
   "cell_type": "code",
   "execution_count": 43,
   "id": "5f620a11",
   "metadata": {
    "scrolled": true
   },
   "outputs": [
    {
     "data": {
      "text/plain": [
       "hungarianIndexedFinal: org.apache.spark.sql.DataFrame = [raceId: string, driverId: string ... 50 more fields]\n",
       "britishIndexedFinal: org.apache.spark.sql.DataFrame = [raceId: string, driverId: string ... 50 more fields]\n"
      ]
     },
     "execution_count": 43,
     "metadata": {},
     "output_type": "execute_result"
    }
   ],
   "source": [
    "val hungarianIndexedFinal = hungarianIndexed\n",
    "                            .withColumn(\"grid\", col(\"grid\").cast(\"integer\"))\n",
    "                            .withColumn(\"fastestLapSpeed\", col(\"fastestLapSpeed\").cast(\"integer\"))\n",
    "                            .withColumn(\"position\", col(\"position\").cast(\"integer\"))\n",
    "val britishIndexedFinal = britishIndexed.withColumn(\"grid\", col(\"grid\").cast(\"integer\"))\n",
    "                                        .withColumn(\"fastestLapSpeed\", col(\"fastestLapSpeed\").cast(\"integer\"))\n",
    "                                        .withColumn(\"position\", col(\"position\").cast(\"integer\"))"
   ]
  },
  {
   "cell_type": "code",
   "execution_count": 36,
   "id": "19f9926c",
   "metadata": {},
   "outputs": [
    {
     "name": "stdout",
     "output_type": "stream",
     "text": [
      "root\n",
      " |-- raceId: string (nullable = true)\n",
      " |-- driverId: string (nullable = true)\n",
      " |-- constructorId: string (nullable = true)\n",
      " |-- resultId: string (nullable = true)\n",
      " |-- number: string (nullable = true)\n",
      " |-- grid: integer (nullable = true)\n",
      " |-- position: string (nullable = true)\n",
      " |-- positionText: string (nullable = true)\n",
      " |-- positionOrder: string (nullable = true)\n",
      " |-- points: string (nullable = true)\n",
      " |-- laps: string (nullable = true)\n",
      " |-- time: string (nullable = true)\n",
      " |-- milliseconds: string (nullable = true)\n",
      " |-- fastestLap: string (nullable = true)\n",
      " |-- rank: string (nullable = true)\n",
      " |-- fastestLapTime: string (nullable = true)\n",
      " |-- fastestLapSpeed: integer (nullable = true)\n",
      " |-- statusId: string (nullable = true)\n",
      " |-- year: string (nullable = true)\n",
      " |-- round: string (nullable = true)\n",
      " |-- circuitId: string (nullable = true)\n",
      " |-- name: string (nullable = true)\n",
      " |-- date: string (nullable = true)\n",
      " |-- time: string (nullable = true)\n",
      " |-- url: string (nullable = true)\n",
      " |-- fp1_date: string (nullable = true)\n",
      " |-- fp1_time: string (nullable = true)\n",
      " |-- fp2_date: string (nullable = true)\n",
      " |-- fp2_time: string (nullable = true)\n",
      " |-- fp3_date: string (nullable = true)\n",
      " |-- fp3_time: string (nullable = true)\n",
      " |-- quali_date: string (nullable = true)\n",
      " |-- quali_time: string (nullable = true)\n",
      " |-- sprint_date: string (nullable = true)\n",
      " |-- sprint_time: string (nullable = true)\n",
      " |-- constructorRef: string (nullable = true)\n",
      " |-- name: string (nullable = true)\n",
      " |-- nationality: string (nullable = true)\n",
      " |-- url: string (nullable = true)\n",
      " |-- driverRef: string (nullable = true)\n",
      " |-- number: string (nullable = true)\n",
      " |-- code: string (nullable = true)\n",
      " |-- forename: string (nullable = true)\n",
      " |-- surname: string (nullable = true)\n",
      " |-- dob: string (nullable = true)\n",
      " |-- nationality: string (nullable = true)\n",
      " |-- url: string (nullable = true)\n",
      " |-- year: string (nullable = true)\n",
      " |-- round: string (nullable = true)\n",
      " |-- circuitId: string (nullable = true)\n",
      " |-- name: string (nullable = true)\n",
      " |-- date: string (nullable = true)\n",
      " |-- time: string (nullable = true)\n",
      " |-- url: string (nullable = true)\n",
      " |-- fp1_date: string (nullable = true)\n",
      " |-- fp1_time: string (nullable = true)\n",
      " |-- fp2_date: string (nullable = true)\n",
      " |-- fp2_time: string (nullable = true)\n",
      " |-- fp3_date: string (nullable = true)\n",
      " |-- fp3_time: string (nullable = true)\n",
      " |-- quali_date: string (nullable = true)\n",
      " |-- quali_time: string (nullable = true)\n",
      " |-- sprint_date: string (nullable = true)\n",
      " |-- sprint_time: string (nullable = true)\n",
      " |-- qualifyId: string (nullable = true)\n",
      " |-- constructorId: string (nullable = true)\n",
      " |-- number: string (nullable = true)\n",
      " |-- position: string (nullable = true)\n",
      " |-- q1: string (nullable = true)\n",
      " |-- q2: string (nullable = true)\n",
      " |-- q3: string (nullable = true)\n",
      " |-- driverRef: string (nullable = true)\n",
      " |-- number: string (nullable = true)\n",
      " |-- code: string (nullable = true)\n",
      " |-- forename: string (nullable = true)\n",
      " |-- surname: string (nullable = true)\n",
      " |-- dob: string (nullable = true)\n",
      " |-- nationality: string (nullable = true)\n",
      " |-- url: string (nullable = true)\n",
      " |-- driverId_indexed: double (nullable = false)\n",
      "\n"
     ]
    }
   ],
   "source": [
    "hungarianIndexedFinal.printSchema"
   ]
  },
  {
   "cell_type": "code",
   "execution_count": 32,
   "id": "622559b7",
   "metadata": {},
   "outputs": [
    {
     "ename": "java.lang.IllegalArgumentException",
     "evalue": " label does not exist. Available: raceId, driverId, constructorId, resultId, number, grid, position, positionText, positionOrder, points, laps, time, milliseconds, fastestLap, rank, fastestLapTime, fastestLapSpeed, statusId, year, round, circuitId, name, date, time, url, fp1_date, fp1_time, fp2_date, fp2_time, fp3_date, fp3_time, quali_date, quali_time, sprint_date, sprint_time, constructorRef, name, nationality, url, driverRef, number, code, forename, surname, dob, nationality, url, year, round, circuitId, name, date, time, url, fp1_date, fp1_time, fp2_date, fp2_time, fp3_date, fp3_time, quali_date, quali_time, sprint_date, sprint_time, qualifyId, constructorId, number, position, q1, q2, q3, driverRef, number, code, forename, surname, dob, nationality, url, driverId_indexed, features",
     "output_type": "error",
     "traceback": [
      "java.lang.IllegalArgumentException: label does not exist. Available: raceId, driverId, constructorId, resultId, number, grid, position, positionText, positionOrder, points, laps, time, milliseconds, fastestLap, rank, fastestLapTime, fastestLapSpeed, statusId, year, round, circuitId, name, date, time, url, fp1_date, fp1_time, fp2_date, fp2_time, fp3_date, fp3_time, quali_date, quali_time, sprint_date, sprint_time, constructorRef, name, nationality, url, driverRef, number, code, forename, surname, dob, nationality, url, year, round, circuitId, name, date, time, url, fp1_date, fp1_time, fp2_date, fp2_time, fp3_date, fp3_time, quali_date, quali_time, sprint_date, sprint_time, qualifyId, constructorId, number, position, q1, q2, q3, driverRef, number, code, forename, surname, dob, nationality, url, driverId_indexed, features",
      "  at org.apache.spark.sql.types.StructType.$anonfun$apply$1(StructType.scala:282)",
      "  at scala.collection.immutable.HashMap$HashTrieMap.getOrElse0(HashMap.scala:596)",
      "  at scala.collection.immutable.HashMap$HashTrieMap.getOrElse0(HashMap.scala:594)",
      "  at scala.collection.immutable.HashMap.getOrElse(HashMap.scala:73)",
      "  at org.apache.spark.sql.types.StructType.apply(StructType.scala:281)",
      "  at org.apache.spark.ml.util.SchemaUtils$.checkNumericType(SchemaUtils.scala:75)",
      "  at org.apache.spark.ml.PredictorParams.validateAndTransformSchema(Predictor.scala:54)",
      "  at org.apache.spark.ml.PredictorParams.validateAndTransformSchema$(Predictor.scala:47)",
      "  at org.apache.spark.ml.classification.Classifier.org$apache$spark$ml$classification$ClassifierParams$$super$validateAndTransformSchema(Classifier.scala:73)",
      "  at org.apache.spark.ml.classification.ClassifierParams.validateAndTransformSchema(Classifier.scala:43)",
      "  at org.apache.spark.ml.classification.ClassifierParams.validateAndTransformSchema$(Classifier.scala:39)",
      "  at org.apache.spark.ml.classification.ProbabilisticClassifier.org$apache$spark$ml$classification$ProbabilisticClassifierParams$$super$validateAndTransformSchema(ProbabilisticClassifier.scala:51)",
      "  at org.apache.spark.ml.classification.ProbabilisticClassifierParams.validateAndTransformSchema(ProbabilisticClassifier.scala:38)",
      "  at org.apache.spark.ml.classification.ProbabilisticClassifierParams.validateAndTransformSchema$(ProbabilisticClassifier.scala:34)",
      "  at org.apache.spark.ml.classification.LogisticRegression.org$apache$spark$ml$classification$LogisticRegressionParams$$super$validateAndTransformSchema(LogisticRegression.scala:286)",
      "  at org.apache.spark.ml.classification.LogisticRegressionParams.validateAndTransformSchema(LogisticRegression.scala:269)",
      "  at org.apache.spark.ml.classification.LogisticRegressionParams.validateAndTransformSchema$(LogisticRegression.scala:256)",
      "  at org.apache.spark.ml.classification.LogisticRegression.validateAndTransformSchema(LogisticRegression.scala:286)",
      "  at org.apache.spark.ml.Predictor.transformSchema(Predictor.scala:177)",
      "  at org.apache.spark.ml.PipelineStage.transformSchema(Pipeline.scala:71)",
      "  at org.apache.spark.ml.Predictor.fit(Predictor.scala:133)",
      "  ... 34 elided",
      ""
     ]
    }
   ],
   "source": [
    "import org.apache.spark.ml.classification.LogisticRegression\n",
    "import org.apache.spark.ml.feature.VectorAssembler\n",
    "import org.apache.spark.ml.linalg.Vectors\n",
    "\n",
    "// Split the data into training and test sets\n",
    "val Array(hungarianTrain, hungarianTest) = hungarianIndexedFinal.randomSplit(Array(0.7, 0.3), seed=42)\n",
    "val Array(britishTrain, britishTest) = britishIndexedFinal.randomSplit(Array(0.7, 0.3), seed=42)\n",
    "\n",
    "// Define the input features for the model\n",
    "val featureCols = Array(\"grid\", \"fastestLapSpeed\")\n",
    "\n",
    "// Create a VectorAssembler to combine the input features into a single vector\n",
    "val assembler = new VectorAssembler()\n",
    "  .setInputCols(featureCols)\n",
    "  .setOutputCol(\"features\")\n",
    "\n",
    "// Apply the VectorAssembler to the training and test sets\n",
    "val hungarianTrainFeatures = assembler.transform(hungarianTrain)\n",
    "val hungarianTestFeatures = assembler.transform(hungarianTest)\n",
    "val britishTrainFeatures = assembler.transform(britishTrain)\n",
    "val britishTestFeatures = assembler.transform(britishTest)\n",
    "\n",
    "// Create a LogisticRegression estimator\n",
    "val lr = new LogisticRegression()\n",
    "\n",
    "// Fit the estimator on the training set\n",
    "val hungarianModel = lr.fit(hungarianTrainFeatures)\n",
    "val britishModel = lr.fit(britishTrainFeatures)\n",
    "\n",
    "// Use the trained model to make predictions on the test set\n",
    "val hungarianPredictions = hungarianModel.transform(hungarianTestFeatures)\n",
    "val britishPredictions = britishModel.transform(britishTestFeatures)\n"
   ]
  },
  {
   "cell_type": "code",
   "execution_count": 54,
   "id": "2d1a4fcd",
   "metadata": {},
   "outputs": [
    {
     "data": {
      "text/plain": [
       "import org.apache.spark.ml.classification.LogisticRegression\n",
       "import org.apache.spark.ml.feature.VectorAssembler\n",
       "import org.apache.spark.ml.linalg.Vectors\n",
       "hungarianIndexedFinalNoNull: org.apache.spark.sql.DataFrame = [raceId: string, driverId: string ... 50 more fields]\n",
       "featureCols: Array[String] = Array(grid, fastestLapSpeed)\n",
       "assembler: org.apache.spark.ml.feature.VectorAssembler = VectorAssembler: uid=vecAssembler_756138155a0b, handleInvalid=skip, numInputCols=2\n",
       "dataWithFeatures: org.apache.spark.sql.DataFrame = [raceId: string, driverId: string ... 51 more fields]\n",
       "trainData: org.apache.spark.sql.Dataset[org.apache.spark.sql.Row] = [raceId: string, driverId: string ... 51 more fields]\n",
       "testData: org.apache.spark.sql.Dataset[org.apache.spark.sql.Row] = [raceId: string, driverId: string ....\n"
      ]
     },
     "execution_count": 54,
     "metadata": {},
     "output_type": "execute_result"
    }
   ],
   "source": [
    "import org.apache.spark.ml.classification.LogisticRegression\n",
    "import org.apache.spark.ml.feature.VectorAssembler\n",
    "import org.apache.spark.ml.linalg.Vectors\n",
    "\n",
    "// Remove rows with null values\n",
    "val hungarianIndexedFinalNoNull = hungarianIndexedFinal.na.drop()\n",
    "\n",
    "// Define the input features for the model\n",
    "val featureCols = Array(\"grid\", \"fastestLapSpeed\")\n",
    "\n",
    "// Create a VectorAssembler to combine the input features into a single vector\n",
    "val assembler = new VectorAssembler()\n",
    "  .setInputCols(featureCols)\n",
    "  .setOutputCol(\"features\")\n",
    "  .setHandleInvalid(\"skip\") // Handle null values by skipping them\n",
    "\n",
    "// Apply the VectorAssembler to the data\n",
    "val dataWithFeatures = assembler.transform(hungarianIndexedFinalNoNull)\n",
    "\n",
    "// Split the data into training and test sets\n",
    "val Array(trainData, testData) = dataWithFeatures.randomSplit(Array(0.7, 0.3), seed=42)\n",
    "\n",
    "// Define the LogisticRegression estimator\n",
    "val lr = new LogisticRegression()\n",
    "  .setLabelCol(\"position\")\n",
    "  .setFeaturesCol(\"features\")\n",
    "\n",
    "// Fit the estimator on the training set\n",
    "val model = lr.fit(trainData)\n",
    "\n",
    "// Use the trained model to make predictions on the test set\n",
    "val predictions = model.transform(testData)\n",
    "\n"
   ]
  },
  {
   "cell_type": "code",
   "execution_count": 55,
   "id": "0da690df",
   "metadata": {},
   "outputs": [
    {
     "name": "stdout",
     "output_type": "stream",
     "text": [
      "+------+--------+-------------+--------+------+----+--------+------------+-------------+------+----+---------+------------+----------+----+--------------+---------------+--------+----+-----+---------+--------------------+----------+--------+--------------------+--------+--------+--------+--------+--------+--------+----------+----------+-----------+-----------+--------------+-----------+-----------+--------------------+-----------+------+----+---------+-----------+----------+-----------+--------------------+--------------------+----------+---------+--------------+----------------+------------+--------------------+--------------------+----------+\n",
      "|raceId|driverId|constructorId|resultId|number|grid|position|positionText|positionOrder|points|laps|     time|milliseconds|fastestLap|rank|fastestLapTime|fastestLapSpeed|statusId|year|round|circuitId|                name|      date|    time|                 url|fp1_date|fp1_time|fp2_date|fp2_time|fp3_date|fp3_time|quali_date|quali_time|sprint_date|sprint_time|constructorRef|       name|nationality|                 url|  driverRef|number|code| forename|    surname|       dob|nationality|                 url|           race_name| race_date|race_time|quali_position|driverId_indexed|    features|       rawPrediction|         probability|prediction|\n",
      "+------+--------+-------------+--------+------+----+--------+------------+-------------+------+----+---------+------------+----------+----+--------------+---------------+--------+----+-----+---------+--------------------+----------+--------+--------------------+--------+--------+--------+--------+--------+--------+----------+----------+-----------+-----------+--------------+-----------+-----------+--------------------+-----------+------+----+---------+-----------+----------+-----------+--------------------+--------------------+----------+---------+--------------+----------------+------------+--------------------+--------------------+----------+\n",
      "|    10|      12|            4|    7745|     8|  14|      12|          12|           12|     0|  70|+1:11.512|     5975388|        65|  15|      1:23.418|            189|       1|2009|   10|       11|Hungarian Grand Prix|2009-07-26|12:00:00|http://en.wikiped...|      \\N|      \\N|      \\N|      \\N|      \\N|      \\N|        \\N|        \\N|         \\N|         \\N|       renault|    Renault|     French|http://en.wikiped...|  piquet_jr|    \\N| PIQ|   Nelson| Piquet Jr.|1985-07-25|  Brazilian|http://en.wikiped...|Hungarian Grand Prix|2009-07-26| 12:00:00|            15|            54.0|[14.0,189.0]|[-8.0724171341209...|[2.72565710023580...|      11.0|\n",
      "|    10|      18|           23|    7740|    22|   8|       7|           7|            7|     2|  70|  +55.088|     5958964|        57|   6|      1:22.706|            190|       1|2009|   10|       11|Hungarian Grand Prix|2009-07-26|12:00:00|http://en.wikiped...|      \\N|      \\N|      \\N|      \\N|      \\N|      \\N|        \\N|        \\N|         \\N|         \\N|         brawn|      Brawn|    British|http://en.wikiped...|     button|    22| BUT|   Jenson|     Button|1980-01-19|    British|http://en.wikiped...|Hungarian Grand Prix|2009-07-26| 12:00:00|             8|             4.0| [8.0,190.0]|[-7.4598645881573...|[2.47445747325618...|       6.0|\n",
      "|    10|      21|           10|    7747|    21|  16|      14|          14|           14|     0|  69|       \\N|          \\N|        40|  10|      1:23.174|            189|      11|2009|   10|       11|Hungarian Grand Prix|2009-07-26|12:00:00|http://en.wikiped...|      \\N|      \\N|      \\N|      \\N|      \\N|      \\N|        \\N|        \\N|         \\N|         \\N|   force_india|Force India|     Indian|http://en.wikiped...| fisichella|    \\N| FIS|Giancarlo| Fisichella|1973-01-14|    Italian|http://en.wikiped...|Hungarian Grand Prix|2009-07-26| 12:00:00|            17|            21.0|[16.0,189.0]|[-8.2592943028177...|[2.30585151233551...|      11.0|\n",
      "|    10|      22|           23|    7743|    23|  12|      10|          10|           10|     0|  70|+1:09.256|     5973132|        55|   9|      1:23.024|            189|       1|2009|   10|       11|Hungarian Grand Prix|2009-07-26|12:00:00|http://en.wikiped...|      \\N|      \\N|      \\N|      \\N|      \\N|      \\N|        \\N|        \\N|         \\N|         \\N|         brawn|      Brawn|    British|http://en.wikiped...|barrichello|    \\N| BAR|   Rubens|Barrichello|1972-05-23|  Brazilian|http://en.wikiped...|Hungarian Grand Prix|2009-07-26| 12:00:00|            13|             7.0|[12.0,189.0]|[-7.8855399654242...|[2.92552266061131...|      11.0|\n",
      "|    10|      67|            5|    7749|    12|  10|      16|          16|           16|     0|  69|       \\N|          \\N|        69|   7|      1:22.955|            190|      11|2009|   10|       11|Hungarian Grand Prix|2009-07-26|12:00:00|http://en.wikiped...|      \\N|      \\N|      \\N|      \\N|      \\N|      \\N|        \\N|        \\N|         \\N|         \\N|    toro_rosso| Toro Rosso|    Italian|http://en.wikiped...|      buemi|    \\N| BUE|Sébastien|      Buemi|1988-10-31|      Swiss|http://en.wikiped...|Hungarian Grand Prix|2009-07-26| 12:00:00|            11|            47.0|[10.0,190.0]|[-7.6467417568540...|[2.89881373063053...|      10.0|\n",
      "+------+--------+-------------+--------+------+----+--------+------------+-------------+------+----+---------+------------+----------+----+--------------+---------------+--------+----+-----+---------+--------------------+----------+--------+--------------------+--------+--------+--------+--------+--------+--------+----------+----------+-----------+-----------+--------------+-----------+-----------+--------------------+-----------+------+----+---------+-----------+----------+-----------+--------------------+--------------------+----------+---------+--------------+----------------+------------+--------------------+--------------------+----------+\n",
      "only showing top 5 rows\n",
      "\n"
     ]
    }
   ],
   "source": [
    "predictions.show(5)"
   ]
  },
  {
   "cell_type": "code",
   "execution_count": 51,
   "id": "459358f8",
   "metadata": {},
   "outputs": [
    {
     "data": {
      "text/plain": [
       "import org.apache.spark.sql.functions.col\n",
       "predictionsWithName: org.apache.spark.sql.DataFrame = [surname: string, prediction: double]\n"
      ]
     },
     "execution_count": 51,
     "metadata": {},
     "output_type": "execute_result"
    }
   ],
   "source": [
    "import org.apache.spark.sql.functions.col\n",
    "\n",
    "// Select necessary columns from testData and predictions\n",
    "val predictionsWithName = predictions.select(\"surname\", \"prediction\")\n",
    "\n"
   ]
  },
  {
   "cell_type": "code",
   "execution_count": 78,
   "id": "0141abf4",
   "metadata": {},
   "outputs": [
    {
     "ename": "org.apache.spark.sql.AnalysisException",
     "evalue": " Cannot resolve column name \"psoition\" among (raceId, driverId, constructorId, resultId, number, grid, position, positionText, positionOrder, points, laps, time, milliseconds, fastestLap, rank, fastestLapTime, fastestLapSpeed, statusId, year, round, circuitId, name, date, time, url, fp1_date, fp1_time, fp2_date, fp2_time, fp3_date, fp3_time, quali_date, quali_time, sprint_date, sprint_time, constructorRef, name, nationality, url, driverRef, number, code, forename, surname, dob, nationality, url, race_name, race_date, race_time, quali_position, driverId_indexed, features, rawPrediction, probability, prediction)",
     "output_type": "error",
     "traceback": [
      "org.apache.spark.sql.AnalysisException: Cannot resolve column name \"psoition\" among (raceId, driverId, constructorId, resultId, number, grid, position, positionText, positionOrder, points, laps, time, milliseconds, fastestLap, rank, fastestLapTime, fastestLapSpeed, statusId, year, round, circuitId, name, date, time, url, fp1_date, fp1_time, fp2_date, fp2_time, fp3_date, fp3_time, quali_date, quali_time, sprint_date, sprint_time, constructorRef, name, nationality, url, driverRef, number, code, forename, surname, dob, nationality, url, race_name, race_date, race_time, quali_position, driverId_indexed, features, rawPrediction, probability, prediction)",
      "  at org.apache.spark.sql.errors.QueryCompilationErrors$.cannotResolveColumnNameAmongFieldsError(QueryCompilationErrors.scala:2265)",
      "  at org.apache.spark.sql.Dataset.org$apache$spark$sql$Dataset$$resolveException(Dataset.scala:259)",
      "  at org.apache.spark.sql.Dataset.$anonfun$resolve$1(Dataset.scala:251)",
      "  at scala.Option.getOrElse(Option.scala:189)",
      "  at org.apache.spark.sql.Dataset.resolve(Dataset.scala:251)",
      "  at org.apache.spark.sql.Dataset.$anonfun$groupBy$2(Dataset.scala:1791)",
      "  at scala.collection.TraversableLike.$anonfun$map$1(TraversableLike.scala:286)",
      "  at scala.collection.mutable.ResizableArray.foreach(ResizableArray.scala:62)",
      "  at scala.collection.mutable.ResizableArray.foreach$(ResizableArray.scala:55)",
      "  at scala.collection.mutable.ArrayBuffer.foreach(ArrayBuffer.scala:49)",
      "  at scala.collection.TraversableLike.map(TraversableLike.scala:286)",
      "  at scala.collection.TraversableLike.map$(TraversableLike.scala:279)",
      "  at scala.collection.AbstractTraversable.map(Traversable.scala:108)",
      "  at org.apache.spark.sql.Dataset.groupBy(Dataset.scala:1791)",
      "  ... 36 elided",
      ""
     ]
    }
   ],
   "source": [
    "val diverPrediction = predictions\n",
    "  .groupBy(\"surname\",\"psoition\")\n",
    "  .agg(round(avg(\"prediction\"), 0).as(\"prediction_driver\"))"
   ]
  },
  {
   "cell_type": "code",
   "execution_count": 75,
   "id": "2f6dfbc5",
   "metadata": {},
   "outputs": [
    {
     "name": "stdout",
     "output_type": "stream",
     "text": [
      "+-----------+-----------------+\n",
      "|    surname|prediction_driver|\n",
      "+-----------+-----------------+\n",
      "|   Nakajima|             11.0|\n",
      "|Barrichello|             11.0|\n",
      "|   Monteiro|             18.0|\n",
      "|  Magnussen|             12.0|\n",
      "|  Coulthard|              9.0|\n",
      "|    Rosberg|              5.0|\n",
      "|  Ricciardo|             11.0|\n",
      "|     Bottas|              2.0|\n",
      "|     Stroll|             14.0|\n",
      "|       Ocon|              7.0|\n",
      "|      Buemi|             13.0|\n",
      "|      Klien|             11.0|\n",
      "|     Alonso|              5.0|\n",
      "|     Vergne|             11.0|\n",
      "|      Gasly|              6.0|\n",
      "|   Grosjean|              6.0|\n",
      "|     Webber|              6.0|\n",
      "|     Latifi|             10.0|\n",
      "|     Trulli|             10.0|\n",
      "|    Russell|             11.0|\n",
      "+-----------+-----------------+\n",
      "only showing top 20 rows\n",
      "\n"
     ]
    }
   ],
   "source": [
    "diverPrediction.show()"
   ]
  },
  {
   "cell_type": "code",
   "execution_count": 77,
   "id": "dea34973",
   "metadata": {},
   "outputs": [],
   "source": [
    "diverPrediction.write\n",
    "  .format(\"csv\")\n",
    "  .option(\"header\", \"true\")\n",
    "  .mode(\"overwrite\")\n",
    "  .save(\"output2.csv\")"
   ]
  },
  {
   "cell_type": "code",
   "execution_count": 72,
   "id": "8cf988eb",
   "metadata": {},
   "outputs": [
    {
     "data": {
      "text/plain": [
       "teamPrediction: org.apache.spark.sql.DataFrame = [constructorRef: string, prediction_team: double]\n"
      ]
     },
     "execution_count": 72,
     "metadata": {},
     "output_type": "execute_result"
    }
   ],
   "source": [
    "val teamPrediction = predictions\n",
    "  .groupBy(\"constructorRef\")\n",
    "  .agg(round(avg(\"prediction\"), 0).as(\"prediction_team\"))"
   ]
  },
  {
   "cell_type": "code",
   "execution_count": 73,
   "id": "21ab5dee",
   "metadata": {},
   "outputs": [
    {
     "name": "stdout",
     "output_type": "stream",
     "text": [
      "+--------------+---------------+\n",
      "|constructorRef|prediction_team|\n",
      "+--------------+---------------+\n",
      "|        sauber|           10.0|\n",
      "|        jaguar|           11.0|\n",
      "|          alfa|           14.0|\n",
      "|  lotus_racing|           18.0|\n",
      "|      red_bull|            4.0|\n",
      "|    bmw_sauber|           13.0|\n",
      "|       mclaren|            7.0|\n",
      "|        jordan|           15.0|\n",
      "|      mercedes|            8.0|\n",
      "|        toyota|            5.0|\n",
      "|      marussia|           18.0|\n",
      "|      williams|           10.0|\n",
      "|           bar|            4.0|\n",
      "|  racing_point|           17.0|\n",
      "|   force_india|           11.0|\n",
      "|    toro_rosso|           10.0|\n",
      "|       ferrari|            6.0|\n",
      "|        virgin|           19.0|\n",
      "|        alpine|            4.0|\n",
      "|      lotus_f1|            2.0|\n",
      "+--------------+---------------+\n",
      "only showing top 20 rows\n",
      "\n"
     ]
    }
   ],
   "source": [
    "teamPrediction.show()"
   ]
  },
  {
   "cell_type": "code",
   "execution_count": 76,
   "id": "6cf36706",
   "metadata": {},
   "outputs": [],
   "source": [
    "teamPrediction.write\n",
    "  .format(\"csv\")\n",
    "  .option(\"header\", \"true\")\n",
    "  .mode(\"overwrite\")\n",
    "  .save(\"output.csv\")\n"
   ]
  },
  {
   "cell_type": "code",
   "execution_count": null,
   "id": "f3e55b14",
   "metadata": {},
   "outputs": [],
   "source": []
  }
 ],
 "metadata": {
  "kernelspec": {
   "display_name": "spylon-kernel",
   "language": "scala",
   "name": "spylon-kernel"
  },
  "language_info": {
   "codemirror_mode": "text/x-scala",
   "file_extension": ".scala",
   "help_links": [
    {
     "text": "MetaKernel Magics",
     "url": "https://metakernel.readthedocs.io/en/latest/source/README.html"
    }
   ],
   "mimetype": "text/x-scala",
   "name": "scala",
   "pygments_lexer": "scala",
   "version": "0.4.1"
  }
 },
 "nbformat": 4,
 "nbformat_minor": 5
}
